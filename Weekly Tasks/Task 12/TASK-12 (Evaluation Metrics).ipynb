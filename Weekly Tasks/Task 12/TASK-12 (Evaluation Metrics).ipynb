{
 "cells": [
  {
   "cell_type": "markdown",
   "id": "e47ad300",
   "metadata": {},
   "source": [
    "- Predictions which are actually true >>> True Positive\n",
    "- Predictions which are actually false(actually the negative predicted class) >>> True Negative\n",
    "- Predictions which are actually false but predicted true >>> False Positive\n",
    "- Predictions which are actually true but predicted false(actually the negative predicted class) >>> False Negative"
   ]
  },
  {
   "cell_type": "code",
   "execution_count": 45,
   "id": "f55735de",
   "metadata": {},
   "outputs": [],
   "source": [
    "import pandas as pd\n",
    "import matplotlib.pyplot as plt\n",
    "import seaborn as sns\n",
    "from sklearn.metrics import accuracy_score,confusion_matrix,f1_score,precision_score,recall_score,classification_report\n",
    "## classification report will cover almost every metric"
   ]
  },
  {
   "cell_type": "code",
   "execution_count": 27,
   "id": "84521637",
   "metadata": {},
   "outputs": [],
   "source": [
    "truth=['cat','not a cat','cat','cat','not a cat','cat','not a cat']\n",
    "predictions=['cat','cat','not a cat','cat','cat','not a cat','cat']"
   ]
  },
  {
   "cell_type": "markdown",
   "id": "13c6dbff",
   "metadata": {},
   "source": [
    "## Precision\n",
    "- Prediction as base line"
   ]
  },
  {
   "cell_type": "raw",
   "id": "194419f5",
   "metadata": {},
   "source": [
    "                                  TP\n",
    "Precision(Positive) =  -------------------------\n",
    "                                TP+FP "
   ]
  },
  {
   "cell_type": "code",
   "execution_count": 39,
   "id": "e8431a0d",
   "metadata": {},
   "outputs": [
    {
     "name": "stdout",
     "output_type": "stream",
     "text": [
      "Precision for 'cat': 0.4\n"
     ]
    }
   ],
   "source": [
    "prec = precision_score(truth, predictions, pos_label='cat')\n",
    "print(\"Precision for 'cat':\", prec)"
   ]
  },
  {
   "cell_type": "markdown",
   "id": "531fbd6b",
   "metadata": {},
   "source": [
    "## Recall\n",
    "- Truth as baseline (whole predictions)"
   ]
  },
  {
   "cell_type": "code",
   "execution_count": null,
   "id": "f9c4834c",
   "metadata": {},
   "outputs": [],
   "source": [
    "                                TP\n",
    "Recall(NEGATIVE) =  -------------------------\n",
    "                TOTAL NO OF SAMPLES FOR RIGHT PREDICTION (LIKE DOG) "
   ]
  },
  {
   "cell_type": "code",
   "execution_count": 37,
   "id": "1f8a3a85",
   "metadata": {},
   "outputs": [
    {
     "name": "stdout",
     "output_type": "stream",
     "text": [
      "Recall: 0.5\n"
     ]
    }
   ],
   "source": [
    "rec=prec = recall_score(truth, predictions, pos_label='cat')\n",
    "print(\"Recall:\", rec)"
   ]
  },
  {
   "cell_type": "markdown",
   "id": "6d41c2b9",
   "metadata": {},
   "source": [
    "## F-1 Score"
   ]
  },
  {
   "cell_type": "raw",
   "id": "8bdb6a9c",
   "metadata": {},
   "source": [
    "F1 = 2× Precision + Recall\n",
    "        -----------------\n",
    "        Precision × Recall\n",
    "\n"
   ]
  },
  {
   "cell_type": "code",
   "execution_count": null,
   "id": "6f7f3290",
   "metadata": {},
   "outputs": [],
   "source": [
    "# our data is kind of unbalanced (4-cat & 3-not a cat) so we will try f-1 score"
   ]
  },
  {
   "cell_type": "code",
   "execution_count": 40,
   "id": "82a1b67f",
   "metadata": {},
   "outputs": [],
   "source": [
    "f1= 2 * (prec + rec/prec * rec)"
   ]
  },
  {
   "cell_type": "code",
   "execution_count": 41,
   "id": "f0fd4442",
   "metadata": {},
   "outputs": [
    {
     "data": {
      "text/plain": [
       "2.05"
      ]
     },
     "execution_count": 41,
     "metadata": {},
     "output_type": "execute_result"
    }
   ],
   "source": [
    "f1"
   ]
  },
  {
   "cell_type": "code",
   "execution_count": 43,
   "id": "97c90aec",
   "metadata": {},
   "outputs": [
    {
     "data": {
      "text/plain": [
       "0.4444444444444445"
      ]
     },
     "execution_count": 43,
     "metadata": {},
     "output_type": "execute_result"
    }
   ],
   "source": [
    "f1=f1_score(truth,predictions,pos_label='cat')\n",
    "f1"
   ]
  },
  {
   "cell_type": "code",
   "execution_count": 44,
   "id": "fb9cf6f6",
   "metadata": {},
   "outputs": [
    {
     "data": {
      "text/plain": [
       "0.0"
      ]
     },
     "execution_count": 44,
     "metadata": {},
     "output_type": "execute_result"
    }
   ],
   "source": [
    "f1=f1_score(truth,predictions,pos_label='not a cat')\n",
    "f1"
   ]
  },
  {
   "cell_type": "markdown",
   "id": "8fd4cd2c",
   "metadata": {},
   "source": [
    "## Acuuracy"
   ]
  },
  {
   "cell_type": "raw",
   "id": "e65aefb1",
   "metadata": {},
   "source": [
    "                    TP+TN\n",
    "Accuracy =  -------------------------\n",
    "             TOTAL NO OF PREDICTIONS "
   ]
  },
  {
   "cell_type": "code",
   "execution_count": 33,
   "id": "27ded2d5",
   "metadata": {},
   "outputs": [
    {
     "name": "stdout",
     "output_type": "stream",
     "text": [
      "Accuracy 0.2857142857142857\n"
     ]
    }
   ],
   "source": [
    "acc=accuracy_score(truth,predictions)\n",
    "print('Accuracy',acc)"
   ]
  },
  {
   "cell_type": "markdown",
   "id": "6a281586",
   "metadata": {},
   "source": [
    "## Confusion Matrix\n",
    "- To understand confusion matrix we should first understand what are true positive,true negatives,false negatives,false positives"
   ]
  },
  {
   "cell_type": "code",
   "execution_count": 9,
   "id": "dc9c37ea",
   "metadata": {},
   "outputs": [],
   "source": [
    "\n",
    "######this func is just simply used to display cm using heatmap\n",
    "def print_confusion_matrix(confusion_matrix, class_names, figsize = (10,7), fontsize=14):\n",
    "    df_cm = pd.DataFrame(\n",
    "        confusion_matrix, index=class_names, columns=class_names, \n",
    "    )\n",
    "    fig = plt.figure(figsize=figsize)\n",
    "    try:\n",
    "        heatmap = sns.heatmap(df_cm, annot=True, fmt=\"d\")\n",
    "    except ValueError:\n",
    "        raise ValueError(\"Confusion matrix values must be integers.\")\n",
    "    heatmap.yaxis.set_ticklabels(heatmap.yaxis.get_ticklabels(), rotation=0, ha='right', fontsize=fontsize)\n",
    "    heatmap.xaxis.set_ticklabels(heatmap.xaxis.get_ticklabels(), rotation=45, ha='right', fontsize=fontsize)\n",
    "    plt.ylabel('Truth')\n",
    "    plt.xlabel('Prediction')"
   ]
  },
  {
   "cell_type": "code",
   "execution_count": 19,
   "id": "dc929250",
   "metadata": {},
   "outputs": [
    {
     "data": {
      "image/png": "[encoded data removed]",
      "text/plain": [
       "<Figure size 1000x700 with 2 Axes>"
      ]
     },
     "metadata": {},
     "output_type": "display_data"
    }
   ],
   "source": [
    "cm=confusion_matrix(truth,predictions)\n",
    "print_confusion_matrix(cm,[\"cat\",\"not a cat\"])"
   ]
  },
  {
   "cell_type": "code",
   "execution_count": 21,
   "id": "0bf35b90",
   "metadata": {},
   "outputs": [
    {
     "name": "stdout",
     "output_type": "stream",
     "text": [
      "              precision    recall  f1-score   support\n",
      "\n",
      "         cat       0.40      0.50      0.44         4\n",
      "   not a cat       0.00      0.00      0.00         3\n",
      "\n",
      "    accuracy                           0.29         7\n",
      "   macro avg       0.20      0.25      0.22         7\n",
      "weighted avg       0.23      0.29      0.25         7\n",
      "\n"
     ]
    }
   ],
   "source": [
    "print(classification_report(truth,predictions))"
   ]
  },
  {
   "cell_type": "markdown",
   "id": "09a95f1e",
   "metadata": {},
   "source": [
    "## Sensitivity \n",
    "- True positive rate (TPR)\n",
    "- same as recall"
   ]
  },
  {
   "cell_type": "markdown",
   "id": "739cbf09",
   "metadata": {},
   "source": [
    "## Specifity\n",
    "- True Negative Rate (TNR)\n",
    "- TN/TN+FP"
   ]
  },
  {
   "cell_type": "markdown",
   "id": "b292d2c1",
   "metadata": {},
   "source": [
    "### ROC/AUC\n",
    "- ROC (Receiver Operating Characteristic)\n",
    "- AUC (Area Under the Curve)"
   ]
  },
  {
   "cell_type": "code",
   "execution_count": 46,
   "id": "03825f6f",
   "metadata": {},
   "outputs": [],
   "source": [
    "from sklearn.metrics import roc_auc_score,roc_curve"
   ]
  },
  {
   "cell_type": "markdown",
   "id": "50dfa924",
   "metadata": {},
   "source": [
    "- ROC curves and ROC AUC scores are typically used to evaluate the performance of binary classification models, not for manually created or hypothetical truth and predictions used for practice tasks. When you use these metrics, you should have actual model predictions and corresponding true labels from your dataset to assess how well your model is distinguishing between the classes. This way, you get meaningful insights into your model's performance in real-world scenarios."
   ]
  },
  {
   "cell_type": "code",
   "execution_count": 56,
   "id": "f422280f",
   "metadata": {},
   "outputs": [
    {
     "name": "stdout",
     "output_type": "stream",
     "text": [
      "ROC AUC Score: 0.25\n"
     ]
    }
   ],
   "source": [
    "from sklearn.preprocessing import LabelBinarizer\n",
    "\n",
    "# Convert categorical labels to binary labels\n",
    "lb = LabelBinarizer()\n",
    "truth_binary = lb.fit_transform(truth)\n",
    "predictions_binary = lb.transform(predictions)\n",
    "\n",
    "# Compute ROC AUC score for the positive class (index 1 in binary labels)\n",
    "roc_auc=roc_auc_score(truth_binary, predictions_binary, average='weighted')  # Use 'weighted' for multiclass\n",
    "print(\"ROC AUC Score:\", roc_auc)"
   ]
  },
  {
   "cell_type": "code",
   "execution_count": null,
   "id": "a820f2fd",
   "metadata": {},
   "outputs": [],
   "source": []
  }
 ],
 "metadata": {
  "kernelspec": {
   "display_name": "Python 3 (ipykernel)",
   "language": "python",
   "name": "python3"
  },
  "language_info": {
   "codemirror_mode": {
    "name": "ipython",
    "version": 3
   },
   "file_extension": ".py",
   "mimetype": "text/x-python",
   "name": "python",
   "nbconvert_exporter": "python",
   "pygments_lexer": "ipython3",
   "version": "3.11.5"
  }
 },
 "nbformat": 4,
 "nbformat_minor": 5
}
