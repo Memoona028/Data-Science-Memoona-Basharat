{
 "cells": [
  {
   "cell_type": "markdown",
   "id": "5b8cd156",
   "metadata": {},
   "source": [
    "# Python Data Structures"
   ]
  },
  {
   "cell_type": "markdown",
   "id": "71efe7af",
   "metadata": {},
   "source": [
    "## Tuple\n",
    "- immutuable "
   ]
  },
  {
   "cell_type": "code",
   "execution_count": 1,
   "id": "107a9c88",
   "metadata": {},
   "outputs": [],
   "source": [
    "tup=4,5,6"
   ]
  },
  {
   "cell_type": "code",
   "execution_count": 2,
   "id": "8ef9fe19",
   "metadata": {},
   "outputs": [
    {
     "data": {
      "text/plain": [
       "(4, 5, 6)"
      ]
     },
     "execution_count": 2,
     "metadata": {},
     "output_type": "execute_result"
    }
   ],
   "source": [
    "tup"
   ]
  },
  {
   "cell_type": "code",
   "execution_count": 3,
   "id": "e2e48d47",
   "metadata": {},
   "outputs": [],
   "source": [
    "tup=tuple(tup)"
   ]
  },
  {
   "cell_type": "code",
   "execution_count": 4,
   "id": "7d881597",
   "metadata": {},
   "outputs": [
    {
     "data": {
      "text/plain": [
       "(4, 5, 6)"
      ]
     },
     "execution_count": 4,
     "metadata": {},
     "output_type": "execute_result"
    }
   ],
   "source": [
    "tup"
   ]
  },
  {
   "cell_type": "code",
   "execution_count": 5,
   "id": "66a4787c",
   "metadata": {},
   "outputs": [],
   "source": [
    "tup=tuple('string')"
   ]
  },
  {
   "cell_type": "code",
   "execution_count": 6,
   "id": "4c72d3c4",
   "metadata": {},
   "outputs": [
    {
     "data": {
      "text/plain": [
       "('s', 't', 'r', 'i', 'n', 'g')"
      ]
     },
     "execution_count": 6,
     "metadata": {},
     "output_type": "execute_result"
    }
   ],
   "source": [
    "tup"
   ]
  },
  {
   "cell_type": "markdown",
   "id": "037c5b82",
   "metadata": {},
   "source": [
    "### Nested Tuple"
   ]
  },
  {
   "cell_type": "code",
   "execution_count": 7,
   "id": "453d82be",
   "metadata": {},
   "outputs": [],
   "source": [
    "nest_tup=(4,5,6,),(1,2)"
   ]
  },
  {
   "cell_type": "code",
   "execution_count": 8,
   "id": "607a4cee",
   "metadata": {},
   "outputs": [
    {
     "data": {
      "text/plain": [
       "((4, 5, 6), (1, 2))"
      ]
     },
     "execution_count": 8,
     "metadata": {},
     "output_type": "execute_result"
    }
   ],
   "source": [
    "nest_tup"
   ]
  },
  {
   "cell_type": "code",
   "execution_count": 9,
   "id": "86dbea3e",
   "metadata": {},
   "outputs": [
    {
     "data": {
      "text/plain": [
       "(1, 2)"
      ]
     },
     "execution_count": 9,
     "metadata": {},
     "output_type": "execute_result"
    }
   ],
   "source": [
    "nest_tup[1]"
   ]
  },
  {
   "cell_type": "code",
   "execution_count": 10,
   "id": "39cdd4ce",
   "metadata": {},
   "outputs": [
    {
     "data": {
      "text/plain": [
       "(4, 5, 6)"
      ]
     },
     "execution_count": 10,
     "metadata": {},
     "output_type": "execute_result"
    }
   ],
   "source": [
    "nest_tup[0]"
   ]
  },
  {
   "cell_type": "markdown",
   "id": "eda1495c",
   "metadata": {},
   "source": [
    "- we cannot modify a tuple"
   ]
  },
  {
   "cell_type": "code",
   "execution_count": 15,
   "id": "70f95ead",
   "metadata": {},
   "outputs": [],
   "source": [
    "tup_1=tuple([1,2,3])"
   ]
  },
  {
   "cell_type": "code",
   "execution_count": 17,
   "id": "cbbe9c10",
   "metadata": {},
   "outputs": [
    {
     "ename": "TypeError",
     "evalue": "'tuple' object does not support item assignment",
     "output_type": "error",
     "traceback": [
      "\u001b[1;31m---------------------------------------------------------------------------\u001b[0m",
      "\u001b[1;31mTypeError\u001b[0m                                 Traceback (most recent call last)",
      "Cell \u001b[1;32mIn[17], line 1\u001b[0m\n\u001b[1;32m----> 1\u001b[0m tup_1[\u001b[38;5;241m1\u001b[39m]\u001b[38;5;241m=\u001b[39m\u001b[38;5;124m'\u001b[39m\u001b[38;5;124m2\u001b[39m\u001b[38;5;124m'\u001b[39m\n",
      "\u001b[1;31mTypeError\u001b[0m: 'tuple' object does not support item assignment"
     ]
    }
   ],
   "source": [
    "tup_1[1]='2'"
   ]
  },
  {
   "cell_type": "markdown",
   "id": "7c0392f1",
   "metadata": {},
   "source": [
    "- here we can see the error occured as we try to modify tuple at index 1 "
   ]
  },
  {
   "cell_type": "code",
   "execution_count": 18,
   "id": "d81e3efb",
   "metadata": {},
   "outputs": [],
   "source": [
    "tup_2=tuple((4, None, 'foo') + (6, 0) + ('bar',))\n"
   ]
  },
  {
   "cell_type": "code",
   "execution_count": 19,
   "id": "df014744",
   "metadata": {},
   "outputs": [
    {
     "data": {
      "text/plain": [
       "(4, None, 'foo', 6, 0, 'bar')"
      ]
     },
     "execution_count": 19,
     "metadata": {},
     "output_type": "execute_result"
    }
   ],
   "source": [
    "tup_2"
   ]
  },
  {
   "cell_type": "code",
   "execution_count": 20,
   "id": "fe1ac24a",
   "metadata": {},
   "outputs": [],
   "source": [
    "# swapping\n",
    "tup=4,5,(6,7)"
   ]
  },
  {
   "cell_type": "code",
   "execution_count": 21,
   "id": "f54d7c19",
   "metadata": {},
   "outputs": [],
   "source": [
    "a,b,(c,d)=tup"
   ]
  },
  {
   "cell_type": "code",
   "execution_count": 22,
   "id": "aff6fc4a",
   "metadata": {},
   "outputs": [
    {
     "data": {
      "text/plain": [
       "7"
      ]
     },
     "execution_count": 22,
     "metadata": {},
     "output_type": "execute_result"
    }
   ],
   "source": [
    "d"
   ]
  },
  {
   "cell_type": "code",
   "execution_count": 24,
   "id": "2dc805db",
   "metadata": {},
   "outputs": [
    {
     "ename": "AttributeError",
     "evalue": "'tuple' object has no attribute 'append'",
     "output_type": "error",
     "traceback": [
      "\u001b[1;31m---------------------------------------------------------------------------\u001b[0m",
      "\u001b[1;31mAttributeError\u001b[0m                            Traceback (most recent call last)",
      "Cell \u001b[1;32mIn[24], line 1\u001b[0m\n\u001b[1;32m----> 1\u001b[0m tup_2\u001b[38;5;241m.\u001b[39mappend(\u001b[38;5;241m0\u001b[39m)\n",
      "\u001b[1;31mAttributeError\u001b[0m: 'tuple' object has no attribute 'append'"
     ]
    }
   ],
   "source": [
    "tup_2.append(0)"
   ]
  },
  {
   "cell_type": "code",
   "execution_count": 25,
   "id": "7468342a",
   "metadata": {},
   "outputs": [
    {
     "data": {
      "text/plain": [
       "0"
      ]
     },
     "execution_count": 25,
     "metadata": {},
     "output_type": "execute_result"
    }
   ],
   "source": [
    "tup_2.count(2)"
   ]
  },
  {
   "cell_type": "markdown",
   "id": "abec2175",
   "metadata": {},
   "source": [
    "# List \n",
    "- semanticaly same as tuple but can be modified"
   ]
  },
  {
   "cell_type": "code",
   "execution_count": 26,
   "id": "d88947e6",
   "metadata": {},
   "outputs": [
    {
     "data": {
      "text/plain": [
       "['foo', 'bar', 'baz']"
      ]
     },
     "execution_count": 26,
     "metadata": {},
     "output_type": "execute_result"
    }
   ],
   "source": [
    "tup = (\"foo\", \"bar\", \"baz\") \n",
    "b_list = list(tup)\n",
    "b_list\n",
    "\n"
   ]
  },
  {
   "cell_type": "code",
   "execution_count": 27,
   "id": "7392c684",
   "metadata": {},
   "outputs": [],
   "source": [
    "b_list[1] = \"peekaboo\"\n"
   ]
  },
  {
   "cell_type": "code",
   "execution_count": 28,
   "id": "a4f5ae6a",
   "metadata": {},
   "outputs": [
    {
     "data": {
      "text/plain": [
       "['foo', 'peekaboo', 'baz']"
      ]
     },
     "execution_count": 28,
     "metadata": {},
     "output_type": "execute_result"
    }
   ],
   "source": [
    "b_list"
   ]
  },
  {
   "cell_type": "code",
   "execution_count": 29,
   "id": "cc44e9e8",
   "metadata": {},
   "outputs": [],
   "source": [
    "#hence we can see that lists are mutuable"
   ]
  },
  {
   "cell_type": "code",
   "execution_count": 30,
   "id": "c345b5b6",
   "metadata": {},
   "outputs": [],
   "source": [
    "gen = range(10)"
   ]
  },
  {
   "cell_type": "code",
   "execution_count": 31,
   "id": "5472545d",
   "metadata": {},
   "outputs": [],
   "source": [
    "gen=list(gen)"
   ]
  },
  {
   "cell_type": "code",
   "execution_count": 32,
   "id": "1cb915cc",
   "metadata": {},
   "outputs": [
    {
     "data": {
      "text/plain": [
       "[0, 1, 2, 3, 4, 5, 6, 7, 8, 9]"
      ]
     },
     "execution_count": 32,
     "metadata": {},
     "output_type": "execute_result"
    }
   ],
   "source": [
    "gen"
   ]
  },
  {
   "cell_type": "code",
   "execution_count": 35,
   "id": "bc4cd33d",
   "metadata": {},
   "outputs": [
    {
     "name": "stdout",
     "output_type": "stream",
     "text": [
      "['red', 'red', 'peekaboo', 'dwarf', 'dwarf']\n",
      "['red', 'red', 'red', 'peekaboo', 'dwarf', 'dwarf']\n",
      "['red', 'red', 'red', 'dwarf', 'dwarf']\n",
      "['red', 'red', 'red', 'dwarf']\n"
     ]
    }
   ],
   "source": [
    "#.append(),it will add in the list at last index\n",
    "b_list.append(\"dwarf\")\n",
    "print(b_list)\n",
    "# .insert (), we can spcifiy index as well\n",
    "b_list.insert(1, \"red\")\n",
    "print(b_list)\n",
    "#.pop(index)\n",
    "b_list.pop(3)\n",
    "print(b_list)\n",
    "#.remove(\"list element\")\n",
    "b_list.remove(\"dwarf\")\n",
    "print(b_list)"
   ]
  },
  {
   "cell_type": "code",
   "execution_count": 36,
   "id": "0e7f8618",
   "metadata": {},
   "outputs": [
    {
     "data": {
      "text/plain": [
       "True"
      ]
     },
     "execution_count": 36,
     "metadata": {},
     "output_type": "execute_result"
    }
   ],
   "source": [
    "\"red\" in b_list"
   ]
  },
  {
   "cell_type": "code",
   "execution_count": 37,
   "id": "71831438",
   "metadata": {},
   "outputs": [
    {
     "data": {
      "text/plain": [
       "False"
      ]
     },
     "execution_count": 37,
     "metadata": {},
     "output_type": "execute_result"
    }
   ],
   "source": [
    "\"red\" not in b_list"
   ]
  },
  {
   "cell_type": "code",
   "execution_count": 38,
   "id": "ba065638",
   "metadata": {},
   "outputs": [],
   "source": [
    "x = [4, None, \"foo\"]\n",
    "x.extend([7, 8, (2, 3)])\n",
    "   "
   ]
  },
  {
   "cell_type": "code",
   "execution_count": 39,
   "id": "4b2b32dd",
   "metadata": {},
   "outputs": [
    {
     "name": "stdout",
     "output_type": "stream",
     "text": [
      "[4, None, 'foo', 7, 8, (2, 3)]\n"
     ]
    }
   ],
   "source": [
    "print(x)"
   ]
  },
  {
   "cell_type": "code",
   "execution_count": 41,
   "id": "fb2c2c9b",
   "metadata": {},
   "outputs": [
    {
     "data": {
      "text/plain": [
       "[4, None, 'Memoona', 7, 8, (2, 3)]"
      ]
     },
     "execution_count": 41,
     "metadata": {},
     "output_type": "execute_result"
    }
   ],
   "source": [
    "# concat\n",
    "[4, None, \"Memoona\"] + [7, 8, (2, 3)]\n"
   ]
  },
  {
   "cell_type": "code",
   "execution_count": 42,
   "id": "6b50e075",
   "metadata": {},
   "outputs": [],
   "source": [
    "a=[10,2,3,9,4]\n",
    "a.sort()"
   ]
  },
  {
   "cell_type": "code",
   "execution_count": 43,
   "id": "7bea5c7e",
   "metadata": {},
   "outputs": [
    {
     "data": {
      "text/plain": [
       "[2, 3, 4, 9, 10]"
      ]
     },
     "execution_count": 43,
     "metadata": {},
     "output_type": "execute_result"
    }
   ],
   "source": [
    "a"
   ]
  },
  {
   "cell_type": "code",
   "execution_count": 45,
   "id": "143ba7d3",
   "metadata": {},
   "outputs": [],
   "source": [
    "# now for strings \n",
    "b = [\"byte\", \"memeoona\", \"He\", \"fixer\", \"she\"]"
   ]
  },
  {
   "cell_type": "code",
   "execution_count": 48,
   "id": "3cccd9e8",
   "metadata": {},
   "outputs": [],
   "source": [
    "#here we sorted w.r.t length of strings \n",
    "b.sort(key=len)"
   ]
  },
  {
   "cell_type": "code",
   "execution_count": 49,
   "id": "32fee042",
   "metadata": {},
   "outputs": [
    {
     "data": {
      "text/plain": [
       "['He', 'she', 'byte', 'fixer', 'memeoona']"
      ]
     },
     "execution_count": 49,
     "metadata": {},
     "output_type": "execute_result"
    }
   ],
   "source": [
    "b"
   ]
  },
  {
   "cell_type": "code",
   "execution_count": 50,
   "id": "32c86d30",
   "metadata": {},
   "outputs": [],
   "source": [
    "x=[7, 2, 3, 7, 5, 6, 0, 1]\n"
   ]
  },
  {
   "cell_type": "code",
   "execution_count": 51,
   "id": "8a4f4ae8",
   "metadata": {},
   "outputs": [
    {
     "data": {
      "text/plain": [
       "[2, 3, 7, 5]"
      ]
     },
     "execution_count": 51,
     "metadata": {},
     "output_type": "execute_result"
    }
   ],
   "source": [
    "# index 1 to 5 sliced out\n",
    "x[1:5]"
   ]
  },
  {
   "cell_type": "code",
   "execution_count": 52,
   "id": "0ddc33a5",
   "metadata": {},
   "outputs": [
    {
     "data": {
      "text/plain": [
       "7"
      ]
     },
     "execution_count": 52,
     "metadata": {},
     "output_type": "execute_result"
    }
   ],
   "source": [
    "x[0]"
   ]
  },
  {
   "cell_type": "code",
   "execution_count": 53,
   "id": "e8790bc5",
   "metadata": {},
   "outputs": [
    {
     "data": {
      "text/plain": [
       "[7, 2, 3, 7, 5]"
      ]
     },
     "execution_count": 53,
     "metadata": {},
     "output_type": "execute_result"
    }
   ],
   "source": [
    "x[:5]"
   ]
  },
  {
   "cell_type": "code",
   "execution_count": 54,
   "id": "b7f673a7",
   "metadata": {},
   "outputs": [
    {
     "data": {
      "text/plain": [
       "[7, 5, 6, 0, 1]"
      ]
     },
     "execution_count": 54,
     "metadata": {},
     "output_type": "execute_result"
    }
   ],
   "source": [
    "x[3:]"
   ]
  },
  {
   "cell_type": "code",
   "execution_count": 55,
   "id": "e6d22337",
   "metadata": {},
   "outputs": [],
   "source": [
    "# it sliced out from index starting from 3 "
   ]
  },
  {
   "cell_type": "code",
   "execution_count": 56,
   "id": "14cd870b",
   "metadata": {},
   "outputs": [
    {
     "data": {
      "text/plain": [
       "[7, 3, 5, 0]"
      ]
     },
     "execution_count": 56,
     "metadata": {},
     "output_type": "execute_result"
    }
   ],
   "source": [
    "#skipping we usually do in pandas case as well\n",
    "x[::2]"
   ]
  },
  {
   "cell_type": "code",
   "execution_count": 58,
   "id": "983b078e",
   "metadata": {},
   "outputs": [
    {
     "data": {
      "text/plain": [
       "[1, 0, 6, 5, 7, 3, 2, 7]"
      ]
     },
     "execution_count": 58,
     "metadata": {},
     "output_type": "execute_result"
    }
   ],
   "source": [
    "# reverse\n",
    "x[::-1] # 0 index"
   ]
  },
  {
   "cell_type": "code",
   "execution_count": 59,
   "id": "1eaf2e66",
   "metadata": {},
   "outputs": [],
   "source": [
    "b=[1,2,3,3]"
   ]
  },
  {
   "cell_type": "code",
   "execution_count": 60,
   "id": "db520ba3",
   "metadata": {},
   "outputs": [
    {
     "data": {
      "text/plain": [
       "[3, 3, 2, 1]"
      ]
     },
     "execution_count": 60,
     "metadata": {},
     "output_type": "execute_result"
    }
   ],
   "source": [
    "b[::-1]"
   ]
  },
  {
   "cell_type": "markdown",
   "id": "7adf907f",
   "metadata": {},
   "source": [
    "# Dictionary"
   ]
  },
  {
   "cell_type": "code",
   "execution_count": 67,
   "id": "bbea657b",
   "metadata": {},
   "outputs": [],
   "source": [
    "# dict{key:value}\n",
    "d={\n",
    "    \"name\":\"Memoona\",\n",
    "    \"Age\" :\"20\"\n",
    "    \n",
    "}"
   ]
  },
  {
   "cell_type": "code",
   "execution_count": 69,
   "id": "2573a314",
   "metadata": {},
   "outputs": [
    {
     "data": {
      "text/plain": [
       "{'name': 'Memoona', 'Age': '20'}"
      ]
     },
     "execution_count": 69,
     "metadata": {},
     "output_type": "execute_result"
    }
   ],
   "source": [
    "d"
   ]
  },
  {
   "cell_type": "code",
   "execution_count": 71,
   "id": "4e46a6bb",
   "metadata": {},
   "outputs": [
    {
     "data": {
      "text/plain": [
       "'Memoona'"
      ]
     },
     "execution_count": 71,
     "metadata": {},
     "output_type": "execute_result"
    }
   ],
   "source": [
    "# access,insert,set\n",
    "d[\"name\"]"
   ]
  },
  {
   "cell_type": "code",
   "execution_count": 72,
   "id": "ece085f3",
   "metadata": {},
   "outputs": [],
   "source": [
    "d[\"Age\"]=21\n"
   ]
  },
  {
   "cell_type": "code",
   "execution_count": 73,
   "id": "534b10f9",
   "metadata": {},
   "outputs": [
    {
     "data": {
      "text/plain": [
       "{'name': 'Memoona', 'Age': 21}"
      ]
     },
     "execution_count": 73,
     "metadata": {},
     "output_type": "execute_result"
    }
   ],
   "source": [
    "d"
   ]
  },
  {
   "cell_type": "code",
   "execution_count": 75,
   "id": "446dcd95",
   "metadata": {},
   "outputs": [],
   "source": [
    "del d[\"name\"]"
   ]
  },
  {
   "cell_type": "code",
   "execution_count": 76,
   "id": "eb8e2f1e",
   "metadata": {},
   "outputs": [
    {
     "data": {
      "text/plain": [
       "{'Age': 21}"
      ]
     },
     "execution_count": 76,
     "metadata": {},
     "output_type": "execute_result"
    }
   ],
   "source": [
    "d"
   ]
  },
  {
   "cell_type": "code",
   "execution_count": 77,
   "id": "023a41a4",
   "metadata": {},
   "outputs": [],
   "source": [
    "d.update({\"First_name\": \"Memoona\"})"
   ]
  },
  {
   "cell_type": "code",
   "execution_count": 78,
   "id": "06ac6bba",
   "metadata": {},
   "outputs": [
    {
     "data": {
      "text/plain": [
       "{'Age': 21, 'First_name': 'Memoona'}"
      ]
     },
     "execution_count": 78,
     "metadata": {},
     "output_type": "execute_result"
    }
   ],
   "source": [
    "d"
   ]
  },
  {
   "cell_type": "code",
   "execution_count": 79,
   "id": "479abdf3",
   "metadata": {},
   "outputs": [
    {
     "data": {
      "text/plain": [
       "'Memoona'"
      ]
     },
     "execution_count": 79,
     "metadata": {},
     "output_type": "execute_result"
    }
   ],
   "source": [
    "d.pop(\"First_name\")"
   ]
  },
  {
   "cell_type": "code",
   "execution_count": 80,
   "id": "d0b03d78",
   "metadata": {},
   "outputs": [
    {
     "data": {
      "text/plain": [
       "{'Age': 21}"
      ]
     },
     "execution_count": 80,
     "metadata": {},
     "output_type": "execute_result"
    }
   ],
   "source": [
    "d"
   ]
  },
  {
   "cell_type": "code",
   "execution_count": 81,
   "id": "7e3187b4",
   "metadata": {},
   "outputs": [
    {
     "data": {
      "text/plain": [
       "['Age']"
      ]
     },
     "execution_count": 81,
     "metadata": {},
     "output_type": "execute_result"
    }
   ],
   "source": [
    "list(d.keys())"
   ]
  },
  {
   "cell_type": "code",
   "execution_count": 82,
   "id": "d82072a1",
   "metadata": {},
   "outputs": [
    {
     "data": {
      "text/plain": [
       "[('Age', 21)]"
      ]
     },
     "execution_count": 82,
     "metadata": {},
     "output_type": "execute_result"
    }
   ],
   "source": [
    "list(d.items())"
   ]
  },
  {
   "cell_type": "markdown",
   "id": "494b4d0c",
   "metadata": {},
   "source": [
    "# Set\n",
    "- unordered ,unique elements( no duplication)"
   ]
  },
  {
   "cell_type": "code",
   "execution_count": 84,
   "id": "b13100fc",
   "metadata": {},
   "outputs": [
    {
     "data": {
      "text/plain": [
       "{1, 2, 3}"
      ]
     },
     "execution_count": 84,
     "metadata": {},
     "output_type": "execute_result"
    }
   ],
   "source": [
    "set([2, 2, 2, 1, 3, 3])"
   ]
  },
  {
   "cell_type": "code",
   "execution_count": 85,
   "id": "c7f60f3d",
   "metadata": {},
   "outputs": [],
   "source": [
    "a={1,2,3}\n",
    "b={4,5,6}"
   ]
  },
  {
   "cell_type": "code",
   "execution_count": 86,
   "id": "077c9805",
   "metadata": {},
   "outputs": [],
   "source": [
    "u=a.union(b)"
   ]
  },
  {
   "cell_type": "code",
   "execution_count": 87,
   "id": "c12b5000",
   "metadata": {},
   "outputs": [
    {
     "data": {
      "text/plain": [
       "{1, 2, 3, 4, 5, 6}"
      ]
     },
     "execution_count": 87,
     "metadata": {},
     "output_type": "execute_result"
    }
   ],
   "source": [
    "u"
   ]
  },
  {
   "cell_type": "code",
   "execution_count": 89,
   "id": "bf3dc7ab",
   "metadata": {},
   "outputs": [],
   "source": [
    "int =a.intersection(b)"
   ]
  },
  {
   "cell_type": "code",
   "execution_count": 90,
   "id": "d7d363aa",
   "metadata": {},
   "outputs": [
    {
     "data": {
      "text/plain": [
       "set()"
      ]
     },
     "execution_count": 90,
     "metadata": {},
     "output_type": "execute_result"
    }
   ],
   "source": [
    "int"
   ]
  },
  {
   "cell_type": "code",
   "execution_count": 91,
   "id": "24584711",
   "metadata": {},
   "outputs": [
    {
     "data": {
      "text/plain": [
       "False"
      ]
     },
     "execution_count": 91,
     "metadata": {},
     "output_type": "execute_result"
    }
   ],
   "source": [
    "{10,11,12}.issubset(a)"
   ]
  },
  {
   "cell_type": "code",
   "execution_count": 93,
   "id": "357b550b",
   "metadata": {},
   "outputs": [
    {
     "data": {
      "text/plain": [
       "True"
      ]
     },
     "execution_count": 93,
     "metadata": {},
     "output_type": "execute_result"
    }
   ],
   "source": [
    "{4,5,6}=={6,5,4}"
   ]
  },
  {
   "cell_type": "code",
   "execution_count": 94,
   "id": "0ca1b5c0",
   "metadata": {},
   "outputs": [],
   "source": [
    "c=a.copy()"
   ]
  },
  {
   "cell_type": "code",
   "execution_count": 95,
   "id": "38652a28",
   "metadata": {},
   "outputs": [
    {
     "data": {
      "text/plain": [
       "{1, 2, 3}"
      ]
     },
     "execution_count": 95,
     "metadata": {},
     "output_type": "execute_result"
    }
   ],
   "source": [
    "c"
   ]
  },
  {
   "cell_type": "code",
   "execution_count": 97,
   "id": "ab1562f9",
   "metadata": {},
   "outputs": [],
   "source": [
    "c |= b"
   ]
  },
  {
   "cell_type": "code",
   "execution_count": 98,
   "id": "f1a03a22",
   "metadata": {},
   "outputs": [
    {
     "data": {
      "text/plain": [
       "{1, 2, 3, 4, 5, 6}"
      ]
     },
     "execution_count": 98,
     "metadata": {},
     "output_type": "execute_result"
    }
   ],
   "source": [
    "c"
   ]
  },
  {
   "cell_type": "code",
   "execution_count": 101,
   "id": "f8cd7771",
   "metadata": {},
   "outputs": [
    {
     "data": {
      "text/plain": [
       "{'Age': 21}"
      ]
     },
     "execution_count": 101,
     "metadata": {},
     "output_type": "execute_result"
    }
   ],
   "source": [
    "d"
   ]
  },
  {
   "cell_type": "code",
   "execution_count": null,
   "id": "3a9235e2",
   "metadata": {},
   "outputs": [],
   "source": []
  }
 ],
 "metadata": {
  "kernelspec": {
   "display_name": "Python 3 (ipykernel)",
   "language": "python",
   "name": "python3"
  },
  "language_info": {
   "codemirror_mode": {
    "name": "ipython",
    "version": 3
   },
   "file_extension": ".py",
   "mimetype": "text/x-python",
   "name": "python",
   "nbconvert_exporter": "python",
   "pygments_lexer": "ipython3",
   "version": "3.11.5"
  }
 },
 "nbformat": 4,
 "nbformat_minor": 5
}
