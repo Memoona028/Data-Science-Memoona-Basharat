{
 "cells": [
  {
   "cell_type": "markdown",
   "id": "66d56aa0",
   "metadata": {},
   "source": [
    "# Varaiables"
   ]
  },
  {
   "cell_type": "code",
   "execution_count": 19,
   "id": "072d682e",
   "metadata": {},
   "outputs": [
    {
     "name": "stdout",
     "output_type": "stream",
     "text": [
      "memoona\n",
      "moneeba\n"
     ]
    }
   ],
   "source": [
    "name=\"memoona\"\n",
    "print(name)\n",
    "name=\"moneeba\"\n",
    "print(name)"
   ]
  },
  {
   "cell_type": "markdown",
   "id": "0b4c4d8d",
   "metadata": {},
   "source": [
    "# Strings"
   ]
  },
  {
   "cell_type": "code",
   "execution_count": 21,
   "id": "ae747a6f",
   "metadata": {},
   "outputs": [
    {
     "name": "stdout",
     "output_type": "stream",
     "text": [
      "Albert Einstein once said, “A person who never made a mistake never tried anything new\"\n"
     ]
    }
   ],
   "source": [
    "quote='Albert Einstein once said, “A person who never made a mistake never tried anything new\"'\n",
    "print(quote)"
   ]
  },
  {
   "cell_type": "code",
   "execution_count": 3,
   "id": "f03288df",
   "metadata": {},
   "outputs": [
    {
     "name": "stdout",
     "output_type": "stream",
     "text": [
      "Memoona\n",
      "MEMOONA\n",
      "memoona\n"
     ]
    }
   ],
   "source": [
    "name=\"memoona\"\n",
    "print(name.title())\n",
    "print(name.upper())\n",
    "print(name.lower())"
   ]
  },
  {
   "cell_type": "markdown",
   "id": "abee803c",
   "metadata": {},
   "source": [
    "### Concatination"
   ]
  },
  {
   "cell_type": "code",
   "execution_count": 6,
   "id": "3a365a02",
   "metadata": {},
   "outputs": [
    {
     "name": "stdout",
     "output_type": "stream",
     "text": [
      "Memoona Basharat\n"
     ]
    }
   ],
   "source": [
    "first_name=\"memoona \"\n",
    "last_name=\"basharat\"\n",
    "name=first_name + last_name\n",
    "print(name.title())"
   ]
  },
  {
   "cell_type": "code",
   "execution_count": 8,
   "id": "97f5beb3",
   "metadata": {},
   "outputs": [
    {
     "name": "stdout",
     "output_type": "stream",
     "text": [
      "Languages:\n",
      "Python\n",
      "C\n",
      "JavaScript\tC++\n"
     ]
    }
   ],
   "source": [
    "print(\"Languages:\\nPython\\nC\\nJavaScript\\tC++\")"
   ]
  },
  {
   "cell_type": "markdown",
   "id": "e91b6493",
   "metadata": {},
   "source": [
    "# strip(),rstrip(),lstrip()"
   ]
  },
  {
   "cell_type": "code",
   "execution_count": 26,
   "id": "5b4e3f87",
   "metadata": {},
   "outputs": [
    {
     "name": "stdout",
     "output_type": "stream",
     "text": [
      "Memoona\n"
     ]
    }
   ],
   "source": [
    "name=\" memoona \"\n",
    "print(name.strip().title())"
   ]
  },
  {
   "cell_type": "code",
   "execution_count": 11,
   "id": "5a108e97",
   "metadata": {},
   "outputs": [
    {
     "data": {
      "text/plain": [
       "'python'"
      ]
     },
     "execution_count": 11,
     "metadata": {},
     "output_type": "execute_result"
    }
   ],
   "source": [
    "lang=\"python\"\n",
    "lang.rstrip()"
   ]
  },
  {
   "cell_type": "code",
   "execution_count": 15,
   "id": "480ee916",
   "metadata": {},
   "outputs": [
    {
     "data": {
      "text/plain": [
       "'python'"
      ]
     },
     "execution_count": 15,
     "metadata": {},
     "output_type": "execute_result"
    }
   ],
   "source": [
    "lang=\" python\"\n",
    "lang.lstrip()"
   ]
  },
  {
   "cell_type": "code",
   "execution_count": 17,
   "id": "39d3e7cd",
   "metadata": {},
   "outputs": [
    {
     "name": "stdout",
     "output_type": "stream",
     "text": [
      "Memoona Basharat\n"
     ]
    }
   ],
   "source": [
    "first_name=\"memoona \"\n",
    "last_name=\" basharat\"\n",
    "name=first_name.rstrip() +\" \"+ last_name.lstrip()\n",
    "print(name.title())"
   ]
  },
  {
   "cell_type": "code",
   "execution_count": 18,
   "id": "13ec84cd",
   "metadata": {},
   "outputs": [
    {
     "name": "stdout",
     "output_type": "stream",
     "text": [
      "The Zen of Python, by Tim Peters\n",
      "\n",
      "Beautiful is better than ugly.\n",
      "Explicit is better than implicit.\n",
      "Simple is better than complex.\n",
      "Complex is better than complicated.\n",
      "Flat is better than nested.\n",
      "Sparse is better than dense.\n",
      "Readability counts.\n",
      "Special cases aren't special enough to break the rules.\n",
      "Although practicality beats purity.\n",
      "Errors should never pass silently.\n",
      "Unless explicitly silenced.\n",
      "In the face of ambiguity, refuse the temptation to guess.\n",
      "There should be one-- and preferably only one --obvious way to do it.\n",
      "Although that way may not be obvious at first unless you're Dutch.\n",
      "Now is better than never.\n",
      "Although never is often better than *right* now.\n",
      "If the implementation is hard to explain, it's a bad idea.\n",
      "If the implementation is easy to explain, it may be a good idea.\n",
      "Namespaces are one honking great idea -- let's do more of those!\n"
     ]
    }
   ],
   "source": [
    "import this"
   ]
  },
  {
   "cell_type": "code",
   "execution_count": 27,
   "id": "0ea9da27",
   "metadata": {},
   "outputs": [
    {
     "name": "stdout",
     "output_type": "stream",
     "text": [
      "8\n",
      "8\n",
      "8\n",
      "8.0\n"
     ]
    }
   ],
   "source": [
    "print(5 + 3)\n",
    "\n",
    "# Subtraction\n",
    "print(10 - 2)\n",
    "\n",
    "# Multiplication\n",
    "print(4 * 2)\n",
    "\n",
    "# Division\n",
    "print(16 / 2)"
   ]
  },
  {
   "cell_type": "code",
   "execution_count": 28,
   "id": "cac667e4",
   "metadata": {},
   "outputs": [
    {
     "name": "stdout",
     "output_type": "stream",
     "text": [
      "My favorite number is 28.\n"
     ]
    }
   ],
   "source": [
    "favorite_number = 28\n",
    "message = f\"My favorite number is {favorite_number}.\"\n",
    "print(message)"
   ]
  },
  {
   "cell_type": "markdown",
   "id": "0f479532",
   "metadata": {},
   "source": [
    "#  conditional statements and comparison operators\n",
    "\n",
    "\n",
    "\n"
   ]
  },
  {
   "cell_type": "code",
   "execution_count": 29,
   "id": "8b2392f6",
   "metadata": {},
   "outputs": [
    {
     "name": "stdout",
     "output_type": "stream",
     "text": [
      "a is less than b\n"
     ]
    }
   ],
   "source": [
    "a = 16\n",
    "b = 20\n",
    "\n",
    "if a > b:\n",
    "    print(\"a is greater than b\")\n",
    "elif a < b:\n",
    "    print(\"a is less than b\")\n",
    "else:\n",
    "    print(\"a is equal to b\")\n",
    "\n"
   ]
  },
  {
   "cell_type": "code",
   "execution_count": 30,
   "id": "87b50db0",
   "metadata": {},
   "outputs": [
    {
     "name": "stdout",
     "output_type": "stream",
     "text": [
      "Both conditions are True\n",
      "At least one condition is True\n",
      "x is not less than y\n"
     ]
    }
   ],
   "source": [
    "x = 10\n",
    "y = 5\n",
    "z = 15\n",
    "\n",
    "# and (to check both of them)\n",
    "if x > y and z > x:\n",
    "    print(\"Both conditions are True\")\n",
    "\n",
    "# or  (to check either of them)\n",
    "if x < y or z > x:\n",
    "    print(\"At least one condition is True\")\n",
    "\n",
    "# not\n",
    "if not (x < y):\n",
    "    print(\"x is not less than y\")\n"
   ]
  },
  {
   "cell_type": "code",
   "execution_count": 32,
   "id": "ba1553f1",
   "metadata": {},
   "outputs": [],
   "source": [
    "num1 = 10\n",
    "num2 = 10\n",
    "\n",
    "# Addition\n",
    "result_add = num1 + num2\n",
    "if result == 15:\n",
    "    print(\"The sum is 15\")\n",
    "\n",
    "# Subtraction\n",
    "result_sub = num1 - num2\n",
    "if result == 5:\n",
    "    print(\"The difference is 5\")\n",
    "\n",
    "# Multiplication\n",
    "result_mul = num1 * num2\n",
    "if result == 50:\n",
    "    print(\"The product is 50\")\n",
    "\n",
    "# Division\n",
    "result_div = num1 / num2\n",
    "if result == 2:\n",
    "    print(\"The quotient is 2\")\n"
   ]
  },
  {
   "cell_type": "code",
   "execution_count": 33,
   "id": "92e2436e",
   "metadata": {},
   "outputs": [
    {
     "name": "stdout",
     "output_type": "stream",
     "text": [
      "20 0 100 1.0\n"
     ]
    }
   ],
   "source": [
    "print(result_add,result_sub,result_mul,result_div)"
   ]
  },
  {
   "cell_type": "code",
   "execution_count": null,
   "id": "659d5bb5",
   "metadata": {},
   "outputs": [],
   "source": []
  }
 ],
 "metadata": {
  "kernelspec": {
   "display_name": "Python 3 (ipykernel)",
   "language": "python",
   "name": "python3"
  },
  "language_info": {
   "codemirror_mode": {
    "name": "ipython",
    "version": 3
   },
   "file_extension": ".py",
   "mimetype": "text/x-python",
   "name": "python",
   "nbconvert_exporter": "python",
   "pygments_lexer": "ipython3",
   "version": "3.11.5"
  }
 },
 "nbformat": 4,
 "nbformat_minor": 5
}
