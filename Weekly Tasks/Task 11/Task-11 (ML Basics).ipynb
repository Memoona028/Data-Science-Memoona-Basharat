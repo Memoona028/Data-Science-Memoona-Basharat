{
 "cells": [
  {
   "cell_type": "markdown",
   "id": "230aa061",
   "metadata": {},
   "source": [
    "## Types of ML\n",
    "- Supervised/Unsupervised learning(supervision requirement)\n",
    "- Batch / Online learning(How ML behaves on Production phase)\n",
    "- Instance-based / Model-based learning(How our ML model learns)"
   ]
  },
  {
   "cell_type": "markdown",
   "id": "c1808024",
   "metadata": {},
   "source": [
    "### BATCH(OFFLINE) / ONLINE LEARNING"
   ]
  },
  {
   "cell_type": "markdown",
   "id": "77beacdc",
   "metadata": {},
   "source": [
    "##### Batch(offline) learning  >>> All of the entire data is being used during training not an incremented training\n",
    "- Trained on our own Local Machine and then we used that trained model and  put it in (deploy on ) production environment\n",
    "- Static Model ( issue is that problem statement can be different our model should evolve and grow with our data and it needs to be updated (data))\n",
    "- Repition bc when we will add data then we have to train it again,test and deployment\n",
    "\n",
    "\n",
    "###### Disadvanatges\n",
    "- Lots of data (Amount of data being too large & converted into big data and it can be given for training it gets crashed) \n",
    "- Hardware limitation(depends on connectivity)\n",
    "- Availablity (Means our model is going to be updated after 24hr but we get some imp thing to get it update at that time but it will not going to get updated on time) "
   ]
  },
  {
   "cell_type": "markdown",
   "id": "60e8debe",
   "metadata": {},
   "source": [
    "#### ONLINE LEARNING\n",
    "- Usability increases performance (Online)>> **ChatGPT**\n",
    "- Dynamically gets trained and gets update by itself\n",
    "- Incremental training,After every batch it gets improved(batch >> small chunks)\n",
    "- Prediction & learning "
   ]
  },
  {
   "cell_type": "markdown",
   "id": "c3efad82",
   "metadata": {},
   "source": [
    "### When to use which?\n",
    ">> Concept drift (problem's nature gets changed drastically using Online Learning is best choice)\n",
    ">>> For Cost effectiveness Use Online Learning\n",
    ">>>> Use Online Learning for Fast Learning              "
   ]
  },
  {
   "cell_type": "markdown",
   "id": "63424d70",
   "metadata": {},
   "source": [
    "##### Implementing Online Learning\n",
    "- **River** library for Online Learning (ML on streaming data)\n",
    "- Vowpal Wabbit\n",
    "- Scikit-learn can be used (it is more designed to do batch learning more)"
   ]
  },
  {
   "cell_type": "code",
   "execution_count": 4,
   "id": "94d1519f",
   "metadata": {},
   "outputs": [],
   "source": [
    "from sklearn import linear_model\n",
    "import numpy as np"
   ]
  },
  {
   "cell_type": "code",
   "execution_count": 20,
   "id": "6c82a72b",
   "metadata": {},
   "outputs": [],
   "source": [
    "# fit,partial_fit-> small data deke partially train kr skte hain which is the base of online learning\n",
    "n_sample,n_features=1,500\n",
    "y=np.random.randn(n_sample)\n",
    "x=np.random.randn(n_sample,n_features)"
   ]
  },
  {
   "cell_type": "code",
   "execution_count": 21,
   "id": "2b5d7087",
   "metadata": {},
   "outputs": [],
   "source": [
    "import time\n",
    "start_time=time.time()"
   ]
  },
  {
   "cell_type": "code",
   "execution_count": 22,
   "id": "3889c212",
   "metadata": {},
   "outputs": [],
   "source": [
    "sc=linear_model.SGDRegressor()#variant of LR"
   ]
  },
  {
   "cell_type": "code",
   "execution_count": 23,
   "id": "e818f7b6",
   "metadata": {},
   "outputs": [
    {
     "data": {
      "text/html": [
       "<style>#sk-container-id-2 {color: black;}#sk-container-id-2 pre{padding: 0;}#sk-container-id-2 div.sk-toggleable {background-color: white;}#sk-container-id-2 label.sk-toggleable__label {cursor: pointer;display: block;width: 100%;margin-bottom: 0;padding: 0.3em;box-sizing: border-box;text-align: center;}#sk-container-id-2 label.sk-toggleable__label-arrow:before {content: \"▸\";float: left;margin-right: 0.25em;color: #696969;}#sk-container-id-2 label.sk-toggleable__label-arrow:hover:before {color: black;}#sk-container-id-2 div.sk-estimator:hover label.sk-toggleable__label-arrow:before {color: black;}#sk-container-id-2 div.sk-toggleable__content {max-height: 0;max-width: 0;overflow: hidden;text-align: left;background-color: #f0f8ff;}#sk-container-id-2 div.sk-toggleable__content pre {margin: 0.2em;color: black;border-radius: 0.25em;background-color: #f0f8ff;}#sk-container-id-2 input.sk-toggleable__control:checked~div.sk-toggleable__content {max-height: 200px;max-width: 100%;overflow: auto;}#sk-container-id-2 input.sk-toggleable__control:checked~label.sk-toggleable__label-arrow:before {content: \"▾\";}#sk-container-id-2 div.sk-estimator input.sk-toggleable__control:checked~label.sk-toggleable__label {background-color: #d4ebff;}#sk-container-id-2 div.sk-label input.sk-toggleable__control:checked~label.sk-toggleable__label {background-color: #d4ebff;}#sk-container-id-2 input.sk-hidden--visually {border: 0;clip: rect(1px 1px 1px 1px);clip: rect(1px, 1px, 1px, 1px);height: 1px;margin: -1px;overflow: hidden;padding: 0;position: absolute;width: 1px;}#sk-container-id-2 div.sk-estimator {font-family: monospace;background-color: #f0f8ff;border: 1px dotted black;border-radius: 0.25em;box-sizing: border-box;margin-bottom: 0.5em;}#sk-container-id-2 div.sk-estimator:hover {background-color: #d4ebff;}#sk-container-id-2 div.sk-parallel-item::after {content: \"\";width: 100%;border-bottom: 1px solid gray;flex-grow: 1;}#sk-container-id-2 div.sk-label:hover label.sk-toggleable__label {background-color: #d4ebff;}#sk-container-id-2 div.sk-serial::before {content: \"\";position: absolute;border-left: 1px solid gray;box-sizing: border-box;top: 0;bottom: 0;left: 50%;z-index: 0;}#sk-container-id-2 div.sk-serial {display: flex;flex-direction: column;align-items: center;background-color: white;padding-right: 0.2em;padding-left: 0.2em;position: relative;}#sk-container-id-2 div.sk-item {position: relative;z-index: 1;}#sk-container-id-2 div.sk-parallel {display: flex;align-items: stretch;justify-content: center;background-color: white;position: relative;}#sk-container-id-2 div.sk-item::before, #sk-container-id-2 div.sk-parallel-item::before {content: \"\";position: absolute;border-left: 1px solid gray;box-sizing: border-box;top: 0;bottom: 0;left: 50%;z-index: -1;}#sk-container-id-2 div.sk-parallel-item {display: flex;flex-direction: column;z-index: 1;position: relative;background-color: white;}#sk-container-id-2 div.sk-parallel-item:first-child::after {align-self: flex-end;width: 50%;}#sk-container-id-2 div.sk-parallel-item:last-child::after {align-self: flex-start;width: 50%;}#sk-container-id-2 div.sk-parallel-item:only-child::after {width: 0;}#sk-container-id-2 div.sk-dashed-wrapped {border: 1px dashed gray;margin: 0 0.4em 0.5em 0.4em;box-sizing: border-box;padding-bottom: 0.4em;background-color: white;}#sk-container-id-2 div.sk-label label {font-family: monospace;font-weight: bold;display: inline-block;line-height: 1.2em;}#sk-container-id-2 div.sk-label-container {text-align: center;}#sk-container-id-2 div.sk-container {/* jupyter's `normalize.less` sets `[hidden] { display: none; }` but bootstrap.min.css set `[hidden] { display: none !important; }` so we also need the `!important` here to be able to override the default hidden behavior on the sphinx rendered scikit-learn.org. See: https://github.com/scikit-learn/scikit-learn/issues/21755 */display: inline-block !important;position: relative;}#sk-container-id-2 div.sk-text-repr-fallback {display: none;}</style><div id=\"sk-container-id-2\" class=\"sk-top-container\"><div class=\"sk-text-repr-fallback\"><pre>SGDRegressor()</pre><b>In a Jupyter environment, please rerun this cell to show the HTML representation or trust the notebook. <br />On GitHub, the HTML representation is unable to render, please try loading this page with nbviewer.org.</b></div><div class=\"sk-container\" hidden><div class=\"sk-item\"><div class=\"sk-estimator sk-toggleable\"><input class=\"sk-toggleable__control sk-hidden--visually\" id=\"sk-estimator-id-2\" type=\"checkbox\" checked><label for=\"sk-estimator-id-2\" class=\"sk-toggleable__label sk-toggleable__label-arrow\">SGDRegressor</label><div class=\"sk-toggleable__content\"><pre>SGDRegressor()</pre></div></div></div></div></div>"
      ],
      "text/plain": [
       "SGDRegressor()"
      ]
     },
     "execution_count": 23,
     "metadata": {},
     "output_type": "execute_result"
    }
   ],
   "source": [
    "sc.partial_fit(x,y)"
   ]
  },
  {
   "cell_type": "code",
   "execution_count": 24,
   "id": "6a714026",
   "metadata": {},
   "outputs": [],
   "source": [
    "elapsed_time=time.time() - start_time"
   ]
  },
  {
   "cell_type": "code",
   "execution_count": 25,
   "id": "3f1fc893",
   "metadata": {},
   "outputs": [
    {
     "name": "stdout",
     "output_type": "stream",
     "text": [
      "1.3221821784973145\n"
     ]
    }
   ],
   "source": [
    "print(elapsed_time)"
   ]
  },
  {
   "cell_type": "code",
   "execution_count": 30,
   "id": "319a37f3",
   "metadata": {},
   "outputs": [],
   "source": [
    "y=np.random.randn(n_sample)\n",
    "x=np.random.randn(n_sample,n_features)"
   ]
  },
  {
   "cell_type": "code",
   "execution_count": 31,
   "id": "dd696bbe",
   "metadata": {},
   "outputs": [
    {
     "data": {
      "text/html": [
       "<style>#sk-container-id-4 {color: black;}#sk-container-id-4 pre{padding: 0;}#sk-container-id-4 div.sk-toggleable {background-color: white;}#sk-container-id-4 label.sk-toggleable__label {cursor: pointer;display: block;width: 100%;margin-bottom: 0;padding: 0.3em;box-sizing: border-box;text-align: center;}#sk-container-id-4 label.sk-toggleable__label-arrow:before {content: \"▸\";float: left;margin-right: 0.25em;color: #696969;}#sk-container-id-4 label.sk-toggleable__label-arrow:hover:before {color: black;}#sk-container-id-4 div.sk-estimator:hover label.sk-toggleable__label-arrow:before {color: black;}#sk-container-id-4 div.sk-toggleable__content {max-height: 0;max-width: 0;overflow: hidden;text-align: left;background-color: #f0f8ff;}#sk-container-id-4 div.sk-toggleable__content pre {margin: 0.2em;color: black;border-radius: 0.25em;background-color: #f0f8ff;}#sk-container-id-4 input.sk-toggleable__control:checked~div.sk-toggleable__content {max-height: 200px;max-width: 100%;overflow: auto;}#sk-container-id-4 input.sk-toggleable__control:checked~label.sk-toggleable__label-arrow:before {content: \"▾\";}#sk-container-id-4 div.sk-estimator input.sk-toggleable__control:checked~label.sk-toggleable__label {background-color: #d4ebff;}#sk-container-id-4 div.sk-label input.sk-toggleable__control:checked~label.sk-toggleable__label {background-color: #d4ebff;}#sk-container-id-4 input.sk-hidden--visually {border: 0;clip: rect(1px 1px 1px 1px);clip: rect(1px, 1px, 1px, 1px);height: 1px;margin: -1px;overflow: hidden;padding: 0;position: absolute;width: 1px;}#sk-container-id-4 div.sk-estimator {font-family: monospace;background-color: #f0f8ff;border: 1px dotted black;border-radius: 0.25em;box-sizing: border-box;margin-bottom: 0.5em;}#sk-container-id-4 div.sk-estimator:hover {background-color: #d4ebff;}#sk-container-id-4 div.sk-parallel-item::after {content: \"\";width: 100%;border-bottom: 1px solid gray;flex-grow: 1;}#sk-container-id-4 div.sk-label:hover label.sk-toggleable__label {background-color: #d4ebff;}#sk-container-id-4 div.sk-serial::before {content: \"\";position: absolute;border-left: 1px solid gray;box-sizing: border-box;top: 0;bottom: 0;left: 50%;z-index: 0;}#sk-container-id-4 div.sk-serial {display: flex;flex-direction: column;align-items: center;background-color: white;padding-right: 0.2em;padding-left: 0.2em;position: relative;}#sk-container-id-4 div.sk-item {position: relative;z-index: 1;}#sk-container-id-4 div.sk-parallel {display: flex;align-items: stretch;justify-content: center;background-color: white;position: relative;}#sk-container-id-4 div.sk-item::before, #sk-container-id-4 div.sk-parallel-item::before {content: \"\";position: absolute;border-left: 1px solid gray;box-sizing: border-box;top: 0;bottom: 0;left: 50%;z-index: -1;}#sk-container-id-4 div.sk-parallel-item {display: flex;flex-direction: column;z-index: 1;position: relative;background-color: white;}#sk-container-id-4 div.sk-parallel-item:first-child::after {align-self: flex-end;width: 50%;}#sk-container-id-4 div.sk-parallel-item:last-child::after {align-self: flex-start;width: 50%;}#sk-container-id-4 div.sk-parallel-item:only-child::after {width: 0;}#sk-container-id-4 div.sk-dashed-wrapped {border: 1px dashed gray;margin: 0 0.4em 0.5em 0.4em;box-sizing: border-box;padding-bottom: 0.4em;background-color: white;}#sk-container-id-4 div.sk-label label {font-family: monospace;font-weight: bold;display: inline-block;line-height: 1.2em;}#sk-container-id-4 div.sk-label-container {text-align: center;}#sk-container-id-4 div.sk-container {/* jupyter's `normalize.less` sets `[hidden] { display: none; }` but bootstrap.min.css set `[hidden] { display: none !important; }` so we also need the `!important` here to be able to override the default hidden behavior on the sphinx rendered scikit-learn.org. See: https://github.com/scikit-learn/scikit-learn/issues/21755 */display: inline-block !important;position: relative;}#sk-container-id-4 div.sk-text-repr-fallback {display: none;}</style><div id=\"sk-container-id-4\" class=\"sk-top-container\"><div class=\"sk-text-repr-fallback\"><pre>SGDRegressor()</pre><b>In a Jupyter environment, please rerun this cell to show the HTML representation or trust the notebook. <br />On GitHub, the HTML representation is unable to render, please try loading this page with nbviewer.org.</b></div><div class=\"sk-container\" hidden><div class=\"sk-item\"><div class=\"sk-estimator sk-toggleable\"><input class=\"sk-toggleable__control sk-hidden--visually\" id=\"sk-estimator-id-4\" type=\"checkbox\" checked><label for=\"sk-estimator-id-4\" class=\"sk-toggleable__label sk-toggleable__label-arrow\">SGDRegressor</label><div class=\"sk-toggleable__content\"><pre>SGDRegressor()</pre></div></div></div></div></div>"
      ],
      "text/plain": [
       "SGDRegressor()"
      ]
     },
     "execution_count": 31,
     "metadata": {},
     "output_type": "execute_result"
    }
   ],
   "source": [
    "sc.partial_fit(x,y)"
   ]
  },
  {
   "cell_type": "code",
   "execution_count": 32,
   "id": "db912f27",
   "metadata": {},
   "outputs": [],
   "source": [
    "elapsed_time=time.time() - start_time"
   ]
  },
  {
   "cell_type": "code",
   "execution_count": 33,
   "id": "e8857425",
   "metadata": {},
   "outputs": [
    {
     "name": "stdout",
     "output_type": "stream",
     "text": [
      "576.1510174274445\n"
     ]
    }
   ],
   "source": [
    "print(elapsed_time)"
   ]
  },
  {
   "cell_type": "markdown",
   "id": "f3cf01c5",
   "metadata": {},
   "source": [
    "- Learning rate\n",
    "- Out of core learning (data is so huge you can't even load it in your machine we can use online learning in that case)\n",
    "###### Disadvantages\n",
    "- Tricky to use (unstable in some sense)\n",
    "- Risky (as it gets changed with data and if data can get biased,data can be not of use,out of context then it's of no use)\n",
    "---- To avoid it to use monitoring systems "
   ]
  },
  {
   "cell_type": "markdown",
   "id": "dd6513f4",
   "metadata": {},
   "source": [
    "### Instance Based learning"
   ]
  },
  {
   "cell_type": "markdown",
   "id": "223f4f9f",
   "metadata": {},
   "source": [
    "- It's kind of ML learning whichw e can say it just memorizes everything without getting fundamentals pattern "
   ]
  },
  {
   "cell_type": "code",
   "execution_count": 40,
   "id": "7544fe9a",
   "metadata": {},
   "outputs": [],
   "source": [
    "dict={\n",
    "    \n",
    "    'age' : ['21','13'],\n",
    "    'iq' : ['80','70'],\n",
    "    'cgpa' : ['3.3','2.7'],\n",
    "    'Placement':['Y','N']\n",
    "}"
   ]
  },
  {
   "cell_type": "code",
   "execution_count": 44,
   "id": "eb61e0aa",
   "metadata": {},
   "outputs": [
    {
     "data": {
      "text/html": [
       "<div>\n",
       "<style scoped>\n",
       "    .dataframe tbody tr th:only-of-type {\n",
       "        vertical-align: middle;\n",
       "    }\n",
       "\n",
       "    .dataframe tbody tr th {\n",
       "        vertical-align: top;\n",
       "    }\n",
       "\n",
       "    .dataframe thead th {\n",
       "        text-align: right;\n",
       "    }\n",
       "</style>\n",
       "<table border=\"1\" class=\"dataframe\">\n",
       "  <thead>\n",
       "    <tr style=\"text-align: right;\">\n",
       "      <th></th>\n",
       "      <th>age</th>\n",
       "      <th>iq</th>\n",
       "      <th>cgpa</th>\n",
       "      <th>Placement</th>\n",
       "    </tr>\n",
       "  </thead>\n",
       "  <tbody>\n",
       "    <tr>\n",
       "      <th>0</th>\n",
       "      <td>21</td>\n",
       "      <td>80</td>\n",
       "      <td>3.3</td>\n",
       "      <td>Y</td>\n",
       "    </tr>\n",
       "    <tr>\n",
       "      <th>1</th>\n",
       "      <td>13</td>\n",
       "      <td>70</td>\n",
       "      <td>2.7</td>\n",
       "      <td>N</td>\n",
       "    </tr>\n",
       "  </tbody>\n",
       "</table>\n",
       "</div>"
      ],
      "text/plain": [
       "  age  iq cgpa Placement\n",
       "0  21  80  3.3         Y\n",
       "1  13  70  2.7         N"
      ]
     },
     "execution_count": 44,
     "metadata": {},
     "output_type": "execute_result"
    }
   ],
   "source": [
    "import pandas as pd\n",
    "df=pd.DataFrame(dict)\n",
    "df"
   ]
  },
  {
   "cell_type": "markdown",
   "id": "d180a823",
   "metadata": {},
   "source": [
    "- when we get training data,we don't learn anything we just store it\n",
    "- Hence,we didn't learn any pattern we will just for similarities in terms of similarities(KNN)"
   ]
  },
  {
   "cell_type": "markdown",
   "id": "d7c4b713",
   "metadata": {},
   "source": [
    "### Model Based learning"
   ]
  },
  {
   "cell_type": "markdown",
   "id": "6fc80ed3",
   "metadata": {},
   "source": [
    "- In this type of learning it tends to get to know more about underlying fundamentals\n",
    "- Opposite to instance based learning,it learns and gets train for example Linear Regression\n",
    "- The data points we gave it ,it try to understand the patterns with drawing a mathematical func like a decision boundary in LR\n",
    "- If training data gets deletd it will still work for unknwon data points as it laready made a decision boundary\n",
    "- Storage is more consumed for storinf tarining data rather than storing trained model"
   ]
  },
  {
   "cell_type": "markdown",
   "id": "eb3d76d6",
   "metadata": {},
   "source": [
    "#### Reinforcement Learning\n",
    "- Agent\n",
    "- State\n",
    "- Environment"
   ]
  },
  {
   "cell_type": "markdown",
   "id": "bad91bdc",
   "metadata": {},
   "source": [
    "- Overfitting\n",
    "- Underfitting\n",
    "- Validation\n",
    "- Testing"
   ]
  },
  {
   "cell_type": "code",
   "execution_count": null,
   "id": "70d4e092",
   "metadata": {},
   "outputs": [],
   "source": []
  }
 ],
 "metadata": {
  "kernelspec": {
   "display_name": "Python 3 (ipykernel)",
   "language": "python",
   "name": "python3"
  },
  "language_info": {
   "codemirror_mode": {
    "name": "ipython",
    "version": 3
   },
   "file_extension": ".py",
   "mimetype": "text/x-python",
   "name": "python",
   "nbconvert_exporter": "python",
   "pygments_lexer": "ipython3",
   "version": "3.11.5"
  }
 },
 "nbformat": 4,
 "nbformat_minor": 5
}
