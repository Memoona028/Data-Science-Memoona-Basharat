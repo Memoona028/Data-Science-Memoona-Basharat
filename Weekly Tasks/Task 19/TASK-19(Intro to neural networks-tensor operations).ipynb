{
 "cells": [
  {
   "cell_type": "code",
   "execution_count": 1,
   "id": "188710af",
   "metadata": {},
   "outputs": [],
   "source": [
    "import tensorflow as tf"
   ]
  },
  {
   "cell_type": "code",
   "execution_count": 2,
   "id": "09639e62",
   "metadata": {},
   "outputs": [
    {
     "name": "stdout",
     "output_type": "stream",
     "text": [
      "2.16.1\n"
     ]
    }
   ],
   "source": [
    "print(tf.__version__)"
   ]
  },
  {
   "cell_type": "code",
   "execution_count": 3,
   "id": "016938cb",
   "metadata": {},
   "outputs": [
    {
     "data": {
      "text/plain": [
       "<tf.Tensor: shape=(1, 1), dtype=float32, numpy=array([[4.]], dtype=float32)>"
      ]
     },
     "execution_count": 3,
     "metadata": {},
     "output_type": "execute_result"
    }
   ],
   "source": [
    "### initialization\n",
    "x=tf.constant(4.0,shape=(1,1),dtype=tf.float32)\n",
    "x"
   ]
  },
  {
   "cell_type": "code",
   "execution_count": 4,
   "id": "5a9e9217",
   "metadata": {},
   "outputs": [
    {
     "data": {
      "text/plain": [
       "<tf.Tensor: shape=(2, 3), dtype=int32, numpy=\n",
       "array([[1, 2, 3],\n",
       "       [4, 5, 6]])>"
      ]
     },
     "execution_count": 4,
     "metadata": {},
     "output_type": "execute_result"
    }
   ],
   "source": [
    "#2-d tensor\n",
    "x=tf.constant([[1,2,3],[4,5,6]])\n",
    "x"
   ]
  },
  {
   "cell_type": "code",
   "execution_count": 5,
   "id": "e388575c",
   "metadata": {},
   "outputs": [
    {
     "data": {
      "text/plain": [
       "<tf.Tensor: shape=(2,), dtype=int32, numpy=array([1, 1])>"
      ]
     },
     "execution_count": 5,
     "metadata": {},
     "output_type": "execute_result"
    }
   ],
   "source": [
    "x=tf.ones(2,3)#2,3 is ignored so it's just this array\n",
    "x\n",
    "#As a result, it creates a tensor of shape (2,) with two ones: [1, 1]."
   ]
  },
  {
   "cell_type": "code",
   "execution_count": 6,
   "id": "fe966270",
   "metadata": {},
   "outputs": [
    {
     "data": {
      "text/plain": [
       "<tf.Tensor: shape=(2, 3), dtype=float32, numpy=\n",
       "array([[1., 1., 1.],\n",
       "       [1., 1., 1.]], dtype=float32)>"
      ]
     },
     "execution_count": 6,
     "metadata": {},
     "output_type": "execute_result"
    }
   ],
   "source": [
    "x=tf.ones((2,3))\n",
    "x\n",
    "##The correct way to specify a shape is by passing a tuple"
   ]
  },
  {
   "cell_type": "code",
   "execution_count": 7,
   "id": "aef9127a",
   "metadata": {},
   "outputs": [
    {
     "data": {
      "text/plain": [
       "<tf.Tensor: shape=(), dtype=float32, numpy=1.0>"
      ]
     },
     "execution_count": 7,
     "metadata": {},
     "output_type": "execute_result"
    }
   ],
   "source": [
    "x=tf.ones(())\n",
    "x"
   ]
  },
  {
   "cell_type": "code",
   "execution_count": 8,
   "id": "cfa4f281",
   "metadata": {},
   "outputs": [
    {
     "data": {
      "text/plain": [
       "<tf.Tensor: shape=(3, 3), dtype=float32, numpy=\n",
       "array([[1., 0., 0.],\n",
       "       [0., 1., 0.],\n",
       "       [0., 0., 1.]], dtype=float32)>"
      ]
     },
     "execution_count": 8,
     "metadata": {},
     "output_type": "execute_result"
    }
   ],
   "source": [
    "x=tf.eye(3)\n",
    "x##identity matrix"
   ]
  },
  {
   "cell_type": "code",
   "execution_count": 9,
   "id": "3e9ca374",
   "metadata": {},
   "outputs": [
    {
     "data": {
      "text/plain": [
       "<tf.Tensor: shape=(3, 3), dtype=float32, numpy=\n",
       "array([[-0.1375313 ,  0.7068329 ,  0.02155145],\n",
       "       [-0.28060892,  0.06170724,  1.695595  ],\n",
       "       [-0.16266826, -0.22679251, -0.9693696 ]], dtype=float32)>"
      ]
     },
     "execution_count": 9,
     "metadata": {},
     "output_type": "execute_result"
    }
   ],
   "source": [
    "x=tf.random.normal((3,3),mean=0,stddev=1)\n",
    "x"
   ]
  },
  {
   "cell_type": "code",
   "execution_count": 10,
   "id": "79b91a0b",
   "metadata": {},
   "outputs": [
    {
     "data": {
      "text/plain": [
       "<tf.Tensor: shape=(3, 3), dtype=float32, numpy=\n",
       "array([[0.7764387 , 0.06015766, 0.05602527],\n",
       "       [0.53349626, 0.4280157 , 0.41022408],\n",
       "       [0.00868344, 0.6259872 , 0.31045973]], dtype=float32)>"
      ]
     },
     "execution_count": 10,
     "metadata": {},
     "output_type": "execute_result"
    }
   ],
   "source": [
    "x=tf.random.uniform((3,3),minval=0,maxval=1)\n",
    "x"
   ]
  },
  {
   "cell_type": "code",
   "execution_count": 11,
   "id": "f83f0dd8",
   "metadata": {},
   "outputs": [
    {
     "data": {
      "text/plain": [
       "<tf.Tensor: shape=(14,), dtype=int32, numpy=array([ 2,  4,  6,  8, 10, 12, 14, 16, 18, 20, 22, 24, 26, 28])>"
      ]
     },
     "execution_count": 11,
     "metadata": {},
     "output_type": "execute_result"
    }
   ],
   "source": [
    "x=tf.range(start=2,limit=30,delta=2)\n",
    "x "
   ]
  },
  {
   "cell_type": "code",
   "execution_count": 12,
   "id": "813d2ff1",
   "metadata": {},
   "outputs": [],
   "source": [
    " x=tf.cast(x,dtype=tf.float64)"
   ]
  },
  {
   "cell_type": "code",
   "execution_count": 13,
   "id": "08e595ae",
   "metadata": {},
   "outputs": [
    {
     "data": {
      "text/plain": [
       "<tf.Tensor: shape=(14,), dtype=float64, numpy=\n",
       "array([ 2.,  4.,  6.,  8., 10., 12., 14., 16., 18., 20., 22., 24., 26.,\n",
       "       28.])>"
      ]
     },
     "execution_count": 13,
     "metadata": {},
     "output_type": "execute_result"
    }
   ],
   "source": [
    "x"
   ]
  },
  {
   "cell_type": "code",
   "execution_count": 14,
   "id": "79cafaf2",
   "metadata": {},
   "outputs": [
    {
     "data": {
      "text/plain": [
       "<tf.Tensor: shape=(14,), dtype=bool, numpy=\n",
       "array([ True,  True,  True,  True,  True,  True,  True,  True,  True,\n",
       "        True,  True,  True,  True,  True])>"
      ]
     },
     "execution_count": 14,
     "metadata": {},
     "output_type": "execute_result"
    }
   ],
   "source": [
    "x=tf.cast(x,dtype=tf.bool)\n",
    "x\n",
    "    "
   ]
  },
  {
   "cell_type": "code",
   "execution_count": 15,
   "id": "ce668e6c",
   "metadata": {},
   "outputs": [],
   "source": [
    "## mathematical operations"
   ]
  },
  {
   "cell_type": "code",
   "execution_count": 16,
   "id": "40596642",
   "metadata": {},
   "outputs": [],
   "source": [
    "x=tf.constant(([1,2,3],[4,5,6]))\n",
    "y=tf.constant(([7,8,9],[10,11,12]))"
   ]
  },
  {
   "cell_type": "code",
   "execution_count": 17,
   "id": "742ddfd9",
   "metadata": {},
   "outputs": [
    {
     "data": {
      "text/plain": [
       "(<tf.Tensor: shape=(2, 3), dtype=int32, numpy=\n",
       " array([[1, 2, 3],\n",
       "        [4, 5, 6]])>,\n",
       " <tf.Tensor: shape=(2, 3), dtype=int32, numpy=\n",
       " array([[ 7,  8,  9],\n",
       "        [10, 11, 12]])>)"
      ]
     },
     "execution_count": 17,
     "metadata": {},
     "output_type": "execute_result"
    }
   ],
   "source": [
    "x,y"
   ]
  },
  {
   "cell_type": "code",
   "execution_count": 18,
   "id": "0f8c2bd5",
   "metadata": {},
   "outputs": [
    {
     "data": {
      "text/plain": [
       "<tf.Tensor: shape=(2, 3), dtype=int32, numpy=\n",
       "array([[ 8, 10, 12],\n",
       "       [14, 16, 18]])>"
      ]
     },
     "execution_count": 18,
     "metadata": {},
     "output_type": "execute_result"
    }
   ],
   "source": [
    "x+y"
   ]
  },
  {
   "cell_type": "code",
   "execution_count": 19,
   "id": "0b38e5e0",
   "metadata": {},
   "outputs": [
    {
     "data": {
      "text/plain": [
       "<tf.Tensor: shape=(2, 3), dtype=int32, numpy=\n",
       "array([[ 7, 16, 27],\n",
       "       [40, 55, 72]])>"
      ]
     },
     "execution_count": 19,
     "metadata": {},
     "output_type": "execute_result"
    }
   ],
   "source": [
    "x*y"
   ]
  },
  {
   "cell_type": "code",
   "execution_count": 20,
   "id": "8f6100a7",
   "metadata": {},
   "outputs": [
    {
     "data": {
      "text/plain": [
       "<tf.Tensor: shape=(2, 3), dtype=float64, numpy=\n",
       "array([[0.14285714, 0.25      , 0.33333333],\n",
       "       [0.4       , 0.45454545, 0.5       ]])>"
      ]
     },
     "execution_count": 20,
     "metadata": {},
     "output_type": "execute_result"
    }
   ],
   "source": [
    "x/y"
   ]
  },
  {
   "cell_type": "code",
   "execution_count": 21,
   "id": "fb6e0312",
   "metadata": {},
   "outputs": [
    {
     "name": "stdout",
     "output_type": "stream",
     "text": [
      "tf.Tensor(\n",
      "[[ 8 10 12]\n",
      " [14 16 18]], shape=(2, 3), dtype=int32) tf.Tensor(\n",
      "[[-6 -6 -6]\n",
      " [-6 -6 -6]], shape=(2, 3), dtype=int32) tf.Tensor(\n",
      "[[ 7 16 27]\n",
      " [40 55 72]], shape=(2, 3), dtype=int32) tf.Tensor(\n",
      "[[0.14285714 0.25       0.33333333]\n",
      " [0.4        0.45454545 0.5       ]], shape=(2, 3), dtype=float64)\n"
     ]
    }
   ],
   "source": [
    "add=tf.add(x,y)\n",
    "sub=tf.subtract(x,y)\n",
    "mul=tf.multiply(x,y)\n",
    "div=tf.divide(x,y)\n",
    "print(add,sub,mul,div)"
   ]
  },
  {
   "cell_type": "code",
   "execution_count": 22,
   "id": "5f51044a",
   "metadata": {},
   "outputs": [
    {
     "name": "stdout",
     "output_type": "stream",
     "text": [
      "tf.Tensor(\n",
      "[[ 50  68]\n",
      " [122 167]], shape=(2, 2), dtype=int32)\n"
     ]
    }
   ],
   "source": [
    "y_transposed = tf.transpose(y)  # Now y has shape (3, 2)\n",
    "\n",
    "result = tf.matmul(x, y_transposed)\n",
    "print(result)"
   ]
  },
  {
   "cell_type": "code",
   "execution_count": 23,
   "id": "dce0887f",
   "metadata": {},
   "outputs": [
    {
     "name": "stdout",
     "output_type": "stream",
     "text": [
      "tf.Tensor(\n",
      "[[ 50  68]\n",
      " [122 167]], shape=(2, 2), dtype=int32)\n"
     ]
    }
   ],
   "source": [
    "result_x = tf.tensordot(x, y, axes=[[1], [1]])\n",
    "print(result_x)"
   ]
  },
  {
   "cell_type": "markdown",
   "id": "d99eb7a0",
   "metadata": {},
   "source": [
    "Matrix multiplication involves taking the dot product of rows from the first matrix with columns from the second matrix. For two matrices A and B, where:\n",
    "\n",
    "A has shape (m, n) (meaning m rows and n columns)\n",
    "B has shape (n, p) (meaning n rows and p columns)"
   ]
  },
  {
   "cell_type": "code",
   "execution_count": 24,
   "id": "d0305543",
   "metadata": {},
   "outputs": [],
   "source": [
    "z=tf.reduce_sum(x*y,axis=0)"
   ]
  },
  {
   "cell_type": "code",
   "execution_count": 25,
   "id": "cc414029",
   "metadata": {},
   "outputs": [
    {
     "data": {
      "text/plain": [
       "<tf.Tensor: shape=(3,), dtype=int32, numpy=array([47, 71, 99])>"
      ]
     },
     "execution_count": 25,
     "metadata": {},
     "output_type": "execute_result"
    }
   ],
   "source": [
    "z"
   ]
  },
  {
   "cell_type": "code",
   "execution_count": 29,
   "id": "7d01786c",
   "metadata": {},
   "outputs": [
    {
     "name": "stdout",
     "output_type": "stream",
     "text": [
      "tf.Tensor(\n",
      "[[ 58  64]\n",
      " [139 154]], shape=(2, 2), dtype=int32)\n"
     ]
    }
   ],
   "source": [
    "x = tf.constant([[1, 2, 3], [4, 5, 6]])  # Shape (2, 3)\n",
    "y = tf.constant([[7, 8], [9, 10], [11, 12]])  # Shape (3, 2)\n",
    "\n",
    "z = x @ y \n",
    "print(z)\n",
    "# @ is the sign for matmul"
   ]
  },
  {
   "cell_type": "code",
   "execution_count": 30,
   "id": "e5f87b56",
   "metadata": {},
   "outputs": [
    {
     "data": {
      "text/plain": [
       "<tf.Tensor: shape=(2, 2), dtype=int32, numpy=\n",
       "array([[ 58,  64],\n",
       "       [139, 154]])>"
      ]
     },
     "execution_count": 30,
     "metadata": {},
     "output_type": "execute_result"
    }
   ],
   "source": [
    "z=tf.matmul(x,y)\n",
    "z \n",
    "#matmul matrix multiplication"
   ]
  },
  {
   "cell_type": "code",
   "execution_count": null,
   "id": "5d69725a",
   "metadata": {},
   "outputs": [],
   "source": [
    "###Indexing"
   ]
  },
  {
   "cell_type": "code",
   "execution_count": 32,
   "id": "292636d3",
   "metadata": {},
   "outputs": [],
   "source": [
    "x=tf.constant([0,1,2,2,3,4,5,6])"
   ]
  },
  {
   "cell_type": "code",
   "execution_count": 33,
   "id": "533e2d96",
   "metadata": {},
   "outputs": [
    {
     "data": {
      "text/plain": [
       "<tf.Tensor: shape=(8,), dtype=int32, numpy=array([0, 1, 2, 2, 3, 4, 5, 6])>"
      ]
     },
     "execution_count": 33,
     "metadata": {},
     "output_type": "execute_result"
    }
   ],
   "source": [
    "x[:]"
   ]
  },
  {
   "cell_type": "code",
   "execution_count": 36,
   "id": "0100367c",
   "metadata": {},
   "outputs": [
    {
     "data": {
      "text/plain": [
       "<tf.Tensor: shape=(), dtype=int32, numpy=2>"
      ]
     },
     "execution_count": 36,
     "metadata": {},
     "output_type": "execute_result"
    }
   ],
   "source": [
    "x[3]"
   ]
  },
  {
   "cell_type": "code",
   "execution_count": 37,
   "id": "1b448033",
   "metadata": {},
   "outputs": [
    {
     "data": {
      "text/plain": [
       "<tf.Tensor: shape=(2,), dtype=int32, numpy=array([1, 2])>"
      ]
     },
     "execution_count": 37,
     "metadata": {},
     "output_type": "execute_result"
    }
   ],
   "source": [
    "x[1:3]"
   ]
  },
  {
   "cell_type": "code",
   "execution_count": 38,
   "id": "aa9db7e9",
   "metadata": {},
   "outputs": [
    {
     "data": {
      "text/plain": [
       "<tf.Tensor: shape=(), dtype=int32, numpy=6>"
      ]
     },
     "execution_count": 38,
     "metadata": {},
     "output_type": "execute_result"
    }
   ],
   "source": [
    "x[-1]"
   ]
  },
  {
   "cell_type": "code",
   "execution_count": 39,
   "id": "24320515",
   "metadata": {},
   "outputs": [
    {
     "data": {
      "text/plain": [
       "<tf.Tensor: shape=(7,), dtype=int32, numpy=array([1, 2, 2, 3, 4, 5, 6])>"
      ]
     },
     "execution_count": 39,
     "metadata": {},
     "output_type": "execute_result"
    }
   ],
   "source": [
    "x[1:]"
   ]
  },
  {
   "cell_type": "code",
   "execution_count": 40,
   "id": "08b14b30",
   "metadata": {},
   "outputs": [
    {
     "data": {
      "text/plain": [
       "<tf.Tensor: shape=(3,), dtype=int32, numpy=array([0, 2, 5])>"
      ]
     },
     "execution_count": 40,
     "metadata": {},
     "output_type": "execute_result"
    }
   ],
   "source": [
    "x[::3]"
   ]
  },
  {
   "cell_type": "code",
   "execution_count": 55,
   "id": "fe182687",
   "metadata": {},
   "outputs": [],
   "source": [
    "y=tf.constant([10,2,3,4,3])\n"
   ]
  },
  {
   "cell_type": "code",
   "execution_count": 56,
   "id": "8587471e",
   "metadata": {},
   "outputs": [
    {
     "name": "stdout",
     "output_type": "stream",
     "text": [
      "tf.Tensor([3 3], shape=(2,), dtype=int32)\n"
     ]
    }
   ],
   "source": [
    "indices = tf.constant([2, 4])\n",
    "gather = tf.gather(y, indices)\n",
    "print(gather)\n",
    "### jo indiecs diye ahin whaan se data utha ke layegha"
   ]
  },
  {
   "cell_type": "code",
   "execution_count": 51,
   "id": "db8396f3",
   "metadata": {},
   "outputs": [
    {
     "data": {
      "text/plain": [
       "<tf.Tensor: shape=(2,), dtype=int32, numpy=array([0, 2])>"
      ]
     },
     "execution_count": 51,
     "metadata": {},
     "output_type": "execute_result"
    }
   ],
   "source": [
    "gather"
   ]
  },
  {
   "cell_type": "code",
   "execution_count": 57,
   "id": "ff33f631",
   "metadata": {},
   "outputs": [],
   "source": [
    "x=tf.constant(([1,2,3],[4,5,6]))"
   ]
  },
  {
   "cell_type": "code",
   "execution_count": 62,
   "id": "2be406ab",
   "metadata": {},
   "outputs": [
    {
     "data": {
      "text/plain": [
       "<tf.Tensor: shape=(1, 3), dtype=int32, numpy=array([[4, 5, 6]])>"
      ]
     },
     "execution_count": 62,
     "metadata": {},
     "output_type": "execute_result"
    }
   ],
   "source": [
    "x[1:,]"
   ]
  },
  {
   "cell_type": "code",
   "execution_count": 65,
   "id": "c2d49ff1",
   "metadata": {},
   "outputs": [],
   "source": [
    "## reshaping\n",
    "\n",
    "x=tf.range(9)"
   ]
  },
  {
   "cell_type": "code",
   "execution_count": 66,
   "id": "762f2e8d",
   "metadata": {},
   "outputs": [],
   "source": [
    "x=tf.reshape(x,(3,3))"
   ]
  },
  {
   "cell_type": "code",
   "execution_count": 67,
   "id": "30aa42da",
   "metadata": {},
   "outputs": [
    {
     "data": {
      "text/plain": [
       "<tf.Tensor: shape=(3, 3), dtype=int32, numpy=\n",
       "array([[0, 1, 2],\n",
       "       [3, 4, 5],\n",
       "       [6, 7, 8]])>"
      ]
     },
     "execution_count": 67,
     "metadata": {},
     "output_type": "execute_result"
    }
   ],
   "source": [
    "x"
   ]
  },
  {
   "cell_type": "code",
   "execution_count": 74,
   "id": "a0c864d5",
   "metadata": {},
   "outputs": [],
   "source": [
    "x=tf.transpose(x,perm=[0,1])"
   ]
  },
  {
   "cell_type": "code",
   "execution_count": 75,
   "id": "ca4263b6",
   "metadata": {},
   "outputs": [
    {
     "data": {
      "text/plain": [
       "<tf.Tensor: shape=(3, 3), dtype=int32, numpy=\n",
       "array([[0, 3, 6],\n",
       "       [1, 4, 7],\n",
       "       [2, 5, 8]])>"
      ]
     },
     "execution_count": 75,
     "metadata": {},
     "output_type": "execute_result"
    }
   ],
   "source": [
    "x"
   ]
  },
  {
   "cell_type": "code",
   "execution_count": 76,
   "id": "1ba3fbf1",
   "metadata": {},
   "outputs": [
    {
     "data": {
      "text/plain": [
       "<tf.Tensor: shape=(3, 3), dtype=int32, numpy=\n",
       "array([[0, 1, 2],\n",
       "       [3, 4, 5],\n",
       "       [6, 7, 8]])>"
      ]
     },
     "execution_count": 76,
     "metadata": {},
     "output_type": "execute_result"
    }
   ],
   "source": [
    "x=tf.transpose(x,perm=[1,0])\n",
    "x"
   ]
  },
  {
   "cell_type": "code",
   "execution_count": null,
   "id": "2edc1e62",
   "metadata": {},
   "outputs": [],
   "source": []
  }
 ],
 "metadata": {
  "kernelspec": {
   "display_name": "Python 3 (ipykernel)",
   "language": "python",
   "name": "python3"
  },
  "language_info": {
   "codemirror_mode": {
    "name": "ipython",
    "version": 3
   },
   "file_extension": ".py",
   "mimetype": "text/x-python",
   "name": "python",
   "nbconvert_exporter": "python",
   "pygments_lexer": "ipython3",
   "version": "3.11.5"
  }
 },
 "nbformat": 4,
 "nbformat_minor": 5
}
