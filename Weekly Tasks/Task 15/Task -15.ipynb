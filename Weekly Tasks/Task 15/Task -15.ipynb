{
 "cells": [
  {
   "cell_type": "markdown",
   "id": "cb6599f3",
   "metadata": {},
   "source": [
    "#### Things to learn/Practice\n",
    "- Python's list being too slow ie the reason why numpy is used \n",
    "> Advanced Numpy (reshape , concatenate, splitting , hsplit,vsplit) etc\n",
    "\n",
    "\n",
    "- concatenate Most general function, concatenates collection of arrays along one axis\n",
    "- vstack, row_stack Stack arrays row-wise (along axis 0)\n",
    "- hstack Stack arrays column-wise (along axis 1)\n",
    "- column_stack Like hstack, but converts 1D arrays to 2D column vectors first\n",
    "- dstack Stack arrays “depth”-wise (along axis 2)\n",
    "- split Split array at passed locations along a particular axis\n",
    "- hsplit/vsplit Convenience functions for splitting on axis 0 and 1, respectively"
   ]
  },
  {
   "cell_type": "code",
   "execution_count": 1,
   "id": "47e25423",
   "metadata": {},
   "outputs": [],
   "source": [
    "import numpy as np"
   ]
  },
  {
   "cell_type": "code",
   "execution_count": 2,
   "id": "a3deba66",
   "metadata": {},
   "outputs": [],
   "source": [
    "ints = np.ones(10, dtype=np.uint16)"
   ]
  },
  {
   "cell_type": "code",
   "execution_count": 3,
   "id": "13b4f808",
   "metadata": {},
   "outputs": [
    {
     "data": {
      "text/plain": [
       "array([1, 1, 1, 1, 1, 1, 1, 1, 1, 1], dtype=uint16)"
      ]
     },
     "execution_count": 3,
     "metadata": {},
     "output_type": "execute_result"
    }
   ],
   "source": [
    "ints"
   ]
  },
  {
   "cell_type": "code",
   "execution_count": 4,
   "id": "636e0962",
   "metadata": {},
   "outputs": [],
   "source": [
    "floats = np.ones(10, dtype=np.float32)"
   ]
  },
  {
   "cell_type": "code",
   "execution_count": 5,
   "id": "5e41f5e6",
   "metadata": {},
   "outputs": [
    {
     "data": {
      "text/plain": [
       "array([1., 1., 1., 1., 1., 1., 1., 1., 1., 1.], dtype=float32)"
      ]
     },
     "execution_count": 5,
     "metadata": {},
     "output_type": "execute_result"
    }
   ],
   "source": [
    "floats"
   ]
  },
  {
   "cell_type": "code",
   "execution_count": 7,
   "id": "9427f6c8",
   "metadata": {},
   "outputs": [
    {
     "data": {
      "text/plain": [
       "array([1., 1., 1., 1., 1., 1., 1., 1., 1., 1.])"
      ]
     },
     "execution_count": 7,
     "metadata": {},
     "output_type": "execute_result"
    }
   ],
   "source": [
    "np.ones(10)"
   ]
  },
  {
   "cell_type": "code",
   "execution_count": 14,
   "id": "5c8945f9",
   "metadata": {},
   "outputs": [],
   "source": [
    "#default dtype is float\n",
    "ten=np.ones((10,5),dtype=np.uint16)\n"
   ]
  },
  {
   "cell_type": "code",
   "execution_count": 15,
   "id": "7a8999c2",
   "metadata": {},
   "outputs": [
    {
     "data": {
      "text/plain": [
       "array([[1, 1, 1, 1, 1],\n",
       "       [1, 1, 1, 1, 1],\n",
       "       [1, 1, 1, 1, 1],\n",
       "       [1, 1, 1, 1, 1],\n",
       "       [1, 1, 1, 1, 1],\n",
       "       [1, 1, 1, 1, 1],\n",
       "       [1, 1, 1, 1, 1],\n",
       "       [1, 1, 1, 1, 1],\n",
       "       [1, 1, 1, 1, 1],\n",
       "       [1, 1, 1, 1, 1]], dtype=uint16)"
      ]
     },
     "execution_count": 15,
     "metadata": {},
     "output_type": "execute_result"
    }
   ],
   "source": [
    "ten"
   ]
  },
  {
   "cell_type": "code",
   "execution_count": 16,
   "id": "b88236b4",
   "metadata": {},
   "outputs": [
    {
     "data": {
      "text/plain": [
       "(160, 40, 8)"
      ]
     },
     "execution_count": 16,
     "metadata": {},
     "output_type": "execute_result"
    }
   ],
   "source": [
    "np.ones((3,4,5),dtype=np.float64).strides\n",
    "#3 layers (or 2D planes).\n",
    "#Each layer has 4 rows.\n",
    "#Each row has 5 columns."
   ]
  },
  {
   "cell_type": "code",
   "execution_count": 18,
   "id": "6a66a4f1",
   "metadata": {},
   "outputs": [
    {
     "data": {
      "text/plain": [
       "320"
      ]
     },
     "execution_count": 18,
     "metadata": {},
     "output_type": "execute_result"
    }
   ],
   "source": [
    "64*5"
   ]
  },
  {
   "cell_type": "code",
   "execution_count": 19,
   "id": "2f7d3202",
   "metadata": {},
   "outputs": [
    {
     "data": {
      "text/plain": [
       "True"
      ]
     },
     "execution_count": 19,
     "metadata": {},
     "output_type": "execute_result"
    }
   ],
   "source": [
    "np.issubdtype(ints.dtype, np.integer)\n"
   ]
  },
  {
   "cell_type": "code",
   "execution_count": 21,
   "id": "d79ce454",
   "metadata": {},
   "outputs": [
    {
     "data": {
      "text/plain": [
       "[numpy.float64,\n",
       " numpy.floating,\n",
       " numpy.inexact,\n",
       " numpy.number,\n",
       " numpy.generic,\n",
       " float,\n",
       " object]"
      ]
     },
     "execution_count": 21,
     "metadata": {},
     "output_type": "execute_result"
    }
   ],
   "source": [
    "# mro of parent class of specific dtype\n",
    "np.float64.mro()"
   ]
  },
  {
   "cell_type": "code",
   "execution_count": 22,
   "id": "ab6d2dec",
   "metadata": {},
   "outputs": [
    {
     "data": {
      "text/plain": [
       "[numpy.uint64,\n",
       " numpy.unsignedinteger,\n",
       " numpy.integer,\n",
       " numpy.number,\n",
       " numpy.generic,\n",
       " object]"
      ]
     },
     "execution_count": 22,
     "metadata": {},
     "output_type": "execute_result"
    }
   ],
   "source": [
    "np.uint64.mro()"
   ]
  },
  {
   "cell_type": "code",
   "execution_count": 34,
   "id": "930960e2",
   "metadata": {},
   "outputs": [],
   "source": [
    "arr=np.arange(8)\n",
    "arr=np.random.randn(100)"
   ]
  },
  {
   "cell_type": "code",
   "execution_count": 35,
   "id": "30e6d4e0",
   "metadata": {},
   "outputs": [
    {
     "data": {
      "text/plain": [
       "array([-0.70800328, -0.76702512,  0.42282896,  0.4587373 ,  0.08953659,\n",
       "       -0.77991286,  0.56335903, -0.02393853,  0.15446525,  0.05451344,\n",
       "       -0.21881846, -1.12774511, -0.10899095,  2.29786013, -1.30771521,\n",
       "       -1.51294311, -1.80721372,  0.89269774,  0.60579202, -0.47363302,\n",
       "       -0.65091121,  0.48485265, -0.98478315, -0.62644444,  0.23473509,\n",
       "       -0.22503499, -0.51723071, -0.73642257,  0.45784558, -0.09257439,\n",
       "       -0.52983275,  0.62558174, -0.45370825,  0.26494412, -0.89444485,\n",
       "       -1.88665285, -1.39714914,  0.09320848, -0.3217302 , -1.40541443,\n",
       "        0.34022465, -1.49187912,  0.02058817,  0.87068318, -0.2115463 ,\n",
       "        0.81861731,  0.68224007, -0.19448593,  0.93271516,  0.70539088,\n",
       "       -2.0643401 , -0.49141506,  0.21019558, -1.42849623,  0.88087123,\n",
       "       -0.33548141, -0.03566885, -1.90300446, -0.10085763,  0.815182  ,\n",
       "       -0.31754111, -0.54084338, -0.95980519,  0.91741805,  0.1157997 ,\n",
       "       -1.9742234 , -0.43757593, -1.07654062,  1.54361672, -0.54907347,\n",
       "       -0.45793077,  0.80744164, -0.15098178,  0.5636882 ,  1.35983636,\n",
       "       -0.82304505, -1.24961731,  0.68048106, -0.78815862, -1.32035268,\n",
       "       -0.1590133 ,  0.5660476 ,  1.70308148, -0.06570284, -0.01691746,\n",
       "       -0.52006165,  0.7508362 ,  0.00234072, -1.52220883,  1.02862176,\n",
       "       -0.53928612,  1.17715185, -0.39245874, -0.94454594,  0.38651762,\n",
       "       -0.05693102,  0.59131143,  0.0652041 ,  2.24140281, -0.7113954 ])"
      ]
     },
     "execution_count": 35,
     "metadata": {},
     "output_type": "execute_result"
    }
   ],
   "source": [
    "arr"
   ]
  },
  {
   "cell_type": "code",
   "execution_count": 37,
   "id": "5c020a3d",
   "metadata": {},
   "outputs": [
    {
     "data": {
      "text/plain": [
       "dtype('float64')"
      ]
     },
     "execution_count": 37,
     "metadata": {},
     "output_type": "execute_result"
    }
   ],
   "source": [
    "arr.dtype"
   ]
  },
  {
   "cell_type": "code",
   "execution_count": 41,
   "id": "09ec969f",
   "metadata": {},
   "outputs": [
    {
     "data": {
      "text/plain": [
       "array([0, 1, 2, 3, 4, 5, 6, 7, 8, 9])"
      ]
     },
     "execution_count": 41,
     "metadata": {},
     "output_type": "execute_result"
    }
   ],
   "source": [
    "arr=np.arange(10)## reshpe like this 5*2 2*5\n",
    "arr"
   ]
  },
  {
   "cell_type": "code",
   "execution_count": 42,
   "id": "6eaefc1b",
   "metadata": {},
   "outputs": [
    {
     "data": {
      "text/plain": [
       "array([[0, 5],\n",
       "       [1, 6],\n",
       "       [2, 7],\n",
       "       [3, 8],\n",
       "       [4, 9]])"
      ]
     },
     "execution_count": 42,
     "metadata": {},
     "output_type": "execute_result"
    }
   ],
   "source": [
    "arr.reshape((5,2),order='F')"
   ]
  },
  {
   "cell_type": "code",
   "execution_count": 43,
   "id": "9cfe89c9",
   "metadata": {},
   "outputs": [
    {
     "data": {
      "text/plain": [
       "array([[0, 1, 2, 3, 4],\n",
       "       [5, 6, 7, 8, 9]])"
      ]
     },
     "execution_count": 43,
     "metadata": {},
     "output_type": "execute_result"
    }
   ],
   "source": [
    "arr.reshape((5, 2)).reshape((2, 5))"
   ]
  },
  {
   "cell_type": "code",
   "execution_count": 44,
   "id": "1f29bf75",
   "metadata": {},
   "outputs": [
    {
     "data": {
      "text/plain": [
       "array([[0, 1],\n",
       "       [2, 3],\n",
       "       [4, 5],\n",
       "       [6, 7],\n",
       "       [8, 9]])"
      ]
     },
     "execution_count": 44,
     "metadata": {},
     "output_type": "execute_result"
    }
   ],
   "source": [
    "arr.reshape((5,-1))\n",
    "## -1 se horizontal count "
   ]
  },
  {
   "cell_type": "code",
   "execution_count": 45,
   "id": "77b39d2b",
   "metadata": {},
   "outputs": [
    {
     "data": {
      "text/plain": [
       "array([0, 1, 2, 3, 4, 5, 6, 7, 8, 9])"
      ]
     },
     "execution_count": 45,
     "metadata": {},
     "output_type": "execute_result"
    }
   ],
   "source": [
    "# .ravel()\n",
    "# it transforms a multi-dimensional array into a one-dimensional array without making a copy of the original data whenever possible\n",
    "#When NumPy's .ravel() function is said to return a view of the original data \"without making a copy,\" it means that the flattened array shares the same memory as the original array. Changes to the flattened array will affect the original array and vice versa, as no new data is created. This is efficient in terms of memory and performance.\n",
    "arr.ravel()"
   ]
  },
  {
   "cell_type": "code",
   "execution_count": 46,
   "id": "13b28a69",
   "metadata": {},
   "outputs": [
    {
     "data": {
      "text/plain": [
       "array([0, 1, 2, 3, 4, 5, 6, 7, 8, 9])"
      ]
     },
     "execution_count": 46,
     "metadata": {},
     "output_type": "execute_result"
    }
   ],
   "source": [
    "# opposite of ravel() flatten do same work but insted it returns a copy of data\n",
    "arr.flatten()"
   ]
  },
  {
   "cell_type": "code",
   "execution_count": 48,
   "id": "1f54974b",
   "metadata": {},
   "outputs": [
    {
     "data": {
      "text/plain": [
       "array([0, 1, 2, 3, 4, 5, 6, 7, 8, 9])"
      ]
     },
     "execution_count": 48,
     "metadata": {},
     "output_type": "execute_result"
    }
   ],
   "source": [
    "# 'C' - row 'F' - col\n",
    "arr.ravel('C')"
   ]
  },
  {
   "cell_type": "code",
   "execution_count": 56,
   "id": "a1c42136",
   "metadata": {
    "scrolled": true
   },
   "outputs": [],
   "source": [
    "arr=np.arange(12).reshape(6,2)"
   ]
  },
  {
   "cell_type": "code",
   "execution_count": 58,
   "id": "750e4ff1",
   "metadata": {},
   "outputs": [
    {
     "data": {
      "text/plain": [
       "array([ 0,  2,  4,  6,  8, 10,  1,  3,  5,  7,  9, 11])"
      ]
     },
     "execution_count": 58,
     "metadata": {},
     "output_type": "execute_result"
    }
   ],
   "source": [
    "arr.ravel('f')"
   ]
  },
  {
   "cell_type": "code",
   "execution_count": 59,
   "id": "fc431002",
   "metadata": {},
   "outputs": [
    {
     "data": {
      "text/plain": [
       "array([ 0,  1,  2,  3,  4,  5,  6,  7,  8,  9, 10, 11])"
      ]
     },
     "execution_count": 59,
     "metadata": {},
     "output_type": "execute_result"
    }
   ],
   "source": [
    "arr.ravel('C')"
   ]
  },
  {
   "cell_type": "code",
   "execution_count": 62,
   "id": "5770fa60",
   "metadata": {},
   "outputs": [],
   "source": [
    "arr1 = np.array([[1, 2, 3], [4, 5, 6]])\n",
    "arr2 = np.array([[7, 8, 9], [10, 11, 12]])\n",
    "#Axis 0: Refers to the rows. Operations with axis=0 are performed down the rows (i.e., column-wise).\n",
    "#Axis 1: Refers to the columns. Operations with axis=1 are performed across the columns (i.e., row-wise).\n",
    "arr=np.concatenate([arr1,arr2],axis=1)"
   ]
  },
  {
   "cell_type": "code",
   "execution_count": 63,
   "id": "bdcf00f1",
   "metadata": {},
   "outputs": [
    {
     "data": {
      "text/plain": [
       "array([[ 1,  2,  3,  7,  8,  9],\n",
       "       [ 4,  5,  6, 10, 11, 12]])"
      ]
     },
     "execution_count": 63,
     "metadata": {},
     "output_type": "execute_result"
    }
   ],
   "source": [
    "arr"
   ]
  },
  {
   "cell_type": "code",
   "execution_count": 64,
   "id": "71ac5787",
   "metadata": {},
   "outputs": [
    {
     "data": {
      "text/plain": [
       "array([[ 1,  2,  3],\n",
       "       [ 4,  5,  6],\n",
       "       [ 7,  8,  9],\n",
       "       [10, 11, 12]])"
      ]
     },
     "execution_count": 64,
     "metadata": {},
     "output_type": "execute_result"
    }
   ],
   "source": [
    "np.vstack((arr1,arr2))"
   ]
  },
  {
   "cell_type": "code",
   "execution_count": 65,
   "id": "82ccdf55",
   "metadata": {},
   "outputs": [
    {
     "data": {
      "text/plain": [
       "array([[ 1,  2,  3,  7,  8,  9],\n",
       "       [ 4,  5,  6, 10, 11, 12]])"
      ]
     },
     "execution_count": 65,
     "metadata": {},
     "output_type": "execute_result"
    }
   ],
   "source": [
    "np.hstack((arr1,arr2))"
   ]
  },
  {
   "cell_type": "code",
   "execution_count": 68,
   "id": "3ab4a354",
   "metadata": {},
   "outputs": [
    {
     "data": {
      "text/plain": [
       "array([[ 0.        ,  1.        ],\n",
       "       [ 2.        ,  3.        ],\n",
       "       [ 4.        ,  5.        ],\n",
       "       [-0.47215545,  0.35798425],\n",
       "       [ 1.62114349,  0.01591892],\n",
       "       [ 0.73885311,  1.17076688]])"
      ]
     },
     "execution_count": 68,
     "metadata": {},
     "output_type": "execute_result"
    }
   ],
   "source": [
    "arr = np.arange(6)\n",
    "arr1 = arr.reshape((3, 2))\n",
    "arr2 = np.random.randn(3, 2)\n",
    "np.r_[arr1, arr2]"
   ]
  },
  {
   "cell_type": "markdown",
   "id": "21431390",
   "metadata": {},
   "source": [
    "\n",
    "- np.r_: Concatenates arrays along the first axis (row-wise) or creates arrays with slices.\n",
    "- np.c_: Concatenates arrays along the second axis (column-wise).\n",
    "- np.dstack: Stacks arrays along the third axis (depth-wise)."
   ]
  },
  {
   "cell_type": "code",
   "execution_count": 69,
   "id": "07e5dfb6",
   "metadata": {},
   "outputs": [
    {
     "data": {
      "text/plain": [
       "array([[ 0.        ,  1.        , -0.47215545,  0.35798425],\n",
       "       [ 2.        ,  3.        ,  1.62114349,  0.01591892],\n",
       "       [ 4.        ,  5.        ,  0.73885311,  1.17076688]])"
      ]
     },
     "execution_count": 69,
     "metadata": {},
     "output_type": "execute_result"
    }
   ],
   "source": [
    "np.c_[arr1, arr2]"
   ]
  },
  {
   "cell_type": "code",
   "execution_count": 70,
   "id": "56036480",
   "metadata": {},
   "outputs": [
    {
     "data": {
      "text/plain": [
       "array([0, 0, 0, 1, 1, 1, 2, 2, 2, 3, 3, 3, 4, 4, 4, 5, 5, 5])"
      ]
     },
     "execution_count": 70,
     "metadata": {},
     "output_type": "execute_result"
    }
   ],
   "source": [
    "arr.repeat(3)"
   ]
  },
  {
   "cell_type": "code",
   "execution_count": 72,
   "id": "dff5dca9",
   "metadata": {},
   "outputs": [
    {
     "data": {
      "text/plain": [
       "array([[-0.51051607, -0.71302902],\n",
       "       [-0.51051607, -0.71302902],\n",
       "       [ 0.39926625,  0.71413309],\n",
       "       [ 0.39926625,  0.71413309]])"
      ]
     },
     "execution_count": 72,
     "metadata": {},
     "output_type": "execute_result"
    }
   ],
   "source": [
    "arr = np.random.randn(2, 2)\n",
    "arr.repeat(2, axis=0)"
   ]
  },
  {
   "cell_type": "code",
   "execution_count": null,
   "id": "398f0021",
   "metadata": {},
   "outputs": [],
   "source": [
    "#Note that if no axis is passed, the array will be flattened first, which is likely not whatyou want. Similarly, you can pass an array of integers when repeating a multidimen‐sional array to repeat a given slice a different number of times:"
   ]
  },
  {
   "cell_type": "code",
   "execution_count": 73,
   "id": "f9459711",
   "metadata": {},
   "outputs": [
    {
     "data": {
      "text/plain": [
       "array([[-0.51051607, -0.71302902],\n",
       "       [ 0.39926625,  0.71413309],\n",
       "       [-0.51051607, -0.71302902],\n",
       "       [ 0.39926625,  0.71413309]])"
      ]
     },
     "execution_count": 73,
     "metadata": {},
     "output_type": "execute_result"
    }
   ],
   "source": [
    "np.tile(arr,(2,1))"
   ]
  },
  {
   "cell_type": "code",
   "execution_count": 74,
   "id": "435f772f",
   "metadata": {},
   "outputs": [
    {
     "data": {
      "text/plain": [
       "array([[-0.51051607, -0.71302902, -0.51051607, -0.71302902],\n",
       "       [ 0.39926625,  0.71413309,  0.39926625,  0.71413309],\n",
       "       [-0.51051607, -0.71302902, -0.51051607, -0.71302902],\n",
       "       [ 0.39926625,  0.71413309,  0.39926625,  0.71413309]])"
      ]
     },
     "execution_count": 74,
     "metadata": {},
     "output_type": "execute_result"
    }
   ],
   "source": [
    "np.tile(arr,(2,2))"
   ]
  },
  {
   "cell_type": "code",
   "execution_count": 79,
   "id": "03f4bcc8",
   "metadata": {},
   "outputs": [
    {
     "name": "stdout",
     "output_type": "stream",
     "text": [
      "[  0 100 200 300 400 500 600 700 800 900]\n"
     ]
    },
    {
     "data": {
      "text/plain": [
       "array([700, 100, 200, 600])"
      ]
     },
     "execution_count": 79,
     "metadata": {},
     "output_type": "execute_result"
    }
   ],
   "source": [
    "# Take and put\n",
    "arr = np.arange(10) * 100\n",
    "print(arr)\n",
    "inds = [7, 1, 2, 6]\n",
    "arr[inds]\n"
   ]
  },
  {
   "cell_type": "code",
   "execution_count": 80,
   "id": "81b8ca44",
   "metadata": {},
   "outputs": [],
   "source": [
    "arr.put(inds, [40, 41, 42, 43])\n",
    "# these vals 40,41 will go to their destined indices"
   ]
  },
  {
   "cell_type": "code",
   "execution_count": 81,
   "id": "46a91d83",
   "metadata": {},
   "outputs": [
    {
     "data": {
      "text/plain": [
       "array([  0,  41,  42, 300, 400, 500,  43,  40, 800, 900])"
      ]
     },
     "execution_count": 81,
     "metadata": {},
     "output_type": "execute_result"
    }
   ],
   "source": [
    "arr"
   ]
  },
  {
   "cell_type": "code",
   "execution_count": 83,
   "id": "c4f21c06",
   "metadata": {},
   "outputs": [
    {
     "data": {
      "text/plain": [
       "array([40, 41, 42, 43])"
      ]
     },
     "execution_count": 83,
     "metadata": {},
     "output_type": "execute_result"
    }
   ],
   "source": [
    "arr.take(inds, axis=0)"
   ]
  },
  {
   "cell_type": "code",
   "execution_count": 85,
   "id": "0d0de2f3",
   "metadata": {},
   "outputs": [
    {
     "name": "stdout",
     "output_type": "stream",
     "text": [
      "[[10 30]\n",
      " [40 60]\n",
      " [70 90]]\n"
     ]
    }
   ],
   "source": [
    "arr = np.array([[10, 20, 30],\n",
    "                [40, 50, 60],\n",
    "                [70, 80, 90]])\n",
    "\n",
    "indices = [0, 2]\n",
    "result = np.take(arr, indices, axis=1)\n",
    "print(result)"
   ]
  },
  {
   "cell_type": "code",
   "execution_count": 89,
   "id": "ecb98810",
   "metadata": {},
   "outputs": [],
   "source": [
    "ind=[3,4]\n",
    "arr.put(ind, [43,45])\n"
   ]
  },
  {
   "cell_type": "code",
   "execution_count": 91,
   "id": "b709fa4d",
   "metadata": {},
   "outputs": [],
   "source": [
    "arr = np.array([[10, 20, 30],\n",
    "                [40, 50, 60],\n",
    "                [70, 80, 90]])"
   ]
  },
  {
   "cell_type": "code",
   "execution_count": 92,
   "id": "8137dc9d",
   "metadata": {},
   "outputs": [],
   "source": [
    "ind=[8]\n",
    "arr.put(ind,[45])\n"
   ]
  },
  {
   "cell_type": "code",
   "execution_count": 93,
   "id": "f29abecf",
   "metadata": {},
   "outputs": [
    {
     "data": {
      "text/plain": [
       "array([[10, 20, 30],\n",
       "       [40, 50, 60],\n",
       "       [70, 80, 45]])"
      ]
     },
     "execution_count": 93,
     "metadata": {},
     "output_type": "execute_result"
    }
   ],
   "source": [
    "arr"
   ]
  },
  {
   "cell_type": "code",
   "execution_count": 94,
   "id": "f6685b55",
   "metadata": {},
   "outputs": [
    {
     "name": "stdout",
     "output_type": "stream",
     "text": [
      "[array([[1, 2, 3, 4]]), array([[5, 6, 7, 8]]), array([[ 9, 10, 11, 12]])]\n"
     ]
    }
   ],
   "source": [
    "arr = np.array([[1, 2, 3, 4],\n",
    "                [5, 6, 7, 8],\n",
    "                [9, 10, 11, 12]])\n",
    "\n",
    "# Splitting the array into 3 sub-array vertically\n",
    "sub_arrays = np.vsplit(arr, 3)\n",
    "\n",
    "print(sub_arrays)"
   ]
  },
  {
   "cell_type": "code",
   "execution_count": 95,
   "id": "f27dcc2f",
   "metadata": {},
   "outputs": [],
   "source": [
    "sub_arrays=np.hsplit(arr,4)"
   ]
  },
  {
   "cell_type": "code",
   "execution_count": 96,
   "id": "3bb6511a",
   "metadata": {},
   "outputs": [
    {
     "data": {
      "text/plain": [
       "[array([[1],\n",
       "        [5],\n",
       "        [9]]),\n",
       " array([[ 2],\n",
       "        [ 6],\n",
       "        [10]]),\n",
       " array([[ 3],\n",
       "        [ 7],\n",
       "        [11]]),\n",
       " array([[ 4],\n",
       "        [ 8],\n",
       "        [12]])]"
      ]
     },
     "execution_count": 96,
     "metadata": {},
     "output_type": "execute_result"
    }
   ],
   "source": [
    "sub_arrays"
   ]
  },
  {
   "cell_type": "code",
   "execution_count": null,
   "id": "660dbd0c",
   "metadata": {},
   "outputs": [],
   "source": []
  }
 ],
 "metadata": {
  "kernelspec": {
   "display_name": "Python 3 (ipykernel)",
   "language": "python",
   "name": "python3"
  },
  "language_info": {
   "codemirror_mode": {
    "name": "ipython",
    "version": 3
   },
   "file_extension": ".py",
   "mimetype": "text/x-python",
   "name": "python",
   "nbconvert_exporter": "python",
   "pygments_lexer": "ipython3",
   "version": "3.11.5"
  }
 },
 "nbformat": 4,
 "nbformat_minor": 5
}
