{
 "cells": [
  {
   "cell_type": "markdown",
   "id": "d2126b2a",
   "metadata": {},
   "source": [
    "- Python Basics \n",
    "- Built-in DS\n",
    "- OOP (class,inheritance etc.)"
   ]
  },
  {
   "cell_type": "markdown",
   "id": "ea1dc91b",
   "metadata": {},
   "source": [
    "# Temperature Tracker (recommendation)"
   ]
  },
  {
   "cell_type": "code",
   "execution_count": 9,
   "id": "beea2c94",
   "metadata": {},
   "outputs": [
    {
     "name": "stdout",
     "output_type": "stream",
     "text": [
      "Average Temperature: 33\n",
      "Highest Temperature: 40\n",
      "Lowest Temperature: 25\n",
      "Average Humidity: 42.50\n",
      "Date: 2024-07-01, Temperature: 40°C - It's very hot! Stay hydrated and avoid going out during peak hours.\n",
      "Date: 2024-07-02, Temperature: 35°C - It's warm. Make sure to wear light clothing.\n",
      "Date: 2024-07-03, Temperature: 25°C - The weather is nice. A great day for outdoor activities.\n"
     ]
    }
   ],
   "source": [
    "##__ private access specifier\n",
    "# used encapsulation,dictionary,oop\n",
    "class TemperatureTracker:\n",
    "    def __init__(self):\n",
    "        self.__temperature_data = {}# here initilializing dictionary(priv),date -> keys,temperature->values\n",
    "\n",
    "    def add_temperature(self, date, temp):\n",
    "        self.__temperature_data[date] = temp #adding or updating for a given date \n",
    "\n",
    "    def get_average_temperature(self):\n",
    "        if not self.__temperature_data: #if dict is empty\n",
    "            return 0\n",
    "        return sum(self.__temperature_data.values()) / len(self.__temperature_data)#getting avg temperature\n",
    "\n",
    "    def get_highest_temperature(self):\n",
    "        if not self.__temperature_data:\n",
    "            return None\n",
    "        return max(self.__temperature_data.values()) #max temp\n",
    "\n",
    "    def get_lowest_temperature(self):\n",
    "        if not self.__temperature_data:\n",
    "            return None\n",
    "        return min(self.__temperature_data.values())#mix temp\n",
    "\n",
    "    def display_stats(self):\n",
    "        print(f\"Average Temperature: {self.get_average_temperature():.0f}\")#0f 0 decimal point\n",
    "        print(f\"Highest Temperature: {self.get_highest_temperature()}\")\n",
    "        print(f\"Lowest Temperature: {self.get_lowest_temperature()}\")\n",
    "\n",
    "    def get_recommendation(self, temp):\n",
    "        if temp > 35:\n",
    "            return \"It's very hot! Stay hydrated and avoid going out during peak hours.\"\n",
    "        elif temp >= 30:\n",
    "            return \"It's warm. Make sure to wear light clothing.\"\n",
    "        elif temp > 20:\n",
    "            return \"The weather is nice. A great day for outdoor activities.\"\n",
    "        else:\n",
    "            return \"It's cool. You might want to wear a light jacket.\"\n",
    "\n",
    "    def display_recommendations(self):\n",
    "        for date, temp in self.__temperature_data.items():\n",
    "            recommendation = self.get_recommendation(temp)\n",
    "            print(f\"Date: {date}, Temperature: {temp}°C - {recommendation}\")\n",
    "\n",
    "class Humidtracker(TemperatureTracker):\n",
    "    def __init__(self):\n",
    "        super().__init__()\n",
    "        self.__humidity_data = {}\n",
    "\n",
    "    def add_humidity(self, date, humidity):\n",
    "        self.__humidity_data[date] = humidity\n",
    "\n",
    "    def get_average_humidity(self):\n",
    "        if not self.__humidity_data:\n",
    "            return 0\n",
    "        return sum(self.__humidity_data.values()) / len(self.__humidity_data)\n",
    "\n",
    "    def display_humid_stats(self):\n",
    "        super().display_stats()\n",
    "        print(f\"Average Humidity: {self.get_average_humidity():.2f}\")# 2 decimal points\n",
    "\n",
    "\n",
    "tracker = Humidtracker()\n",
    "tracker.add_temperature('2024-07-01', 40)\n",
    "tracker.add_temperature('2024-07-02', 35)\n",
    "tracker.add_temperature('2024-07-03', 25)\n",
    "tracker.add_humidity('2024-07-01', 43)\n",
    "tracker.add_humidity('2024-07-02', 42)\n",
    "tracker.display_humid_stats()\n",
    "tracker.display_recommendations()\n"
   ]
  },
  {
   "cell_type": "code",
   "execution_count": null,
   "id": "fba2171f",
   "metadata": {},
   "outputs": [],
   "source": []
  }
 ],
 "metadata": {
  "kernelspec": {
   "display_name": "Python 3 (ipykernel)",
   "language": "python",
   "name": "python3"
  },
  "language_info": {
   "codemirror_mode": {
    "name": "ipython",
    "version": 3
   },
   "file_extension": ".py",
   "mimetype": "text/x-python",
   "name": "python",
   "nbconvert_exporter": "python",
   "pygments_lexer": "ipython3",
   "version": "3.11.5"
  }
 },
 "nbformat": 4,
 "nbformat_minor": 5
}
